{
 "cells": [
  {
   "cell_type": "markdown",
   "metadata": {},
   "source": [
    "## The Microsoft Scifi Project - A&J Analytica\n",
    "\n",
    "Microsoft sees all the big companies creating original video content, and they want to get in on the fun. They have decided to create a new movie studio, but the problem is they don’t know anything about creating movies. They also want to capture a niche and create only sci-fi movies. They have hired A&J Analytica to help them better understand the scifi genre. Your team is charged with doing data analysis and creating a presentation that explores what type of sci-fi films are currently doing the best at the box office. You must then translate those findings into actionable insights that the CEO can use when deciding what type of films they should be creating."
   ]
  },
  {
   "cell_type": "markdown",
   "metadata": {},
   "source": [
    "## Checklist:\n",
    "\n",
    "- Organization/Code Cleanliness\n",
    "\n",
    "     Your notebook should contain 1 - 2 paragraphs briefly explaining your approach to this project.\n",
    "     \n",
    "     \n",
    "- Visualizations & EDA\n",
    "\n",
    "    Your project contains at least 4 meaningful data visualizations, with corresponding interpretations. All visualizations are well labeled with axes labels, a title, and a legend (when appropriate)\n",
    "    \n",
    "    You pose at least 3 meaningful questions and answer them through EDA. These questions should be well labeled and easy to identify inside the notebook.\n",
    "    \n",
    "     Level Up: Each question is clearly answered with a visualization that makes the answer easy to understand.\n",
    "   \n",
    "\n",
    "\n",
    "- Questions:\n"
   ]
  },
  {
   "cell_type": "code",
   "execution_count": 154,
   "metadata": {},
   "outputs": [],
   "source": [
    "#import packages needed\n",
    "\n",
    "import pandas as pd\n",
    "import matplotlib.pyplot as plt\n",
    "from matplotlib import style\n",
    "style.use('seaborn')\n",
    "import numpy as np\n",
    "import json\n",
    "import requests\n",
    "from bs4 import BeautifulSoup\n",
    "from re import sub\n",
    "from decimal import Decimal\n",
    "import seaborn as sns\n",
    "%matplotlib inline"
   ]
  },
  {
   "cell_type": "code",
   "execution_count": 5,
   "metadata": {},
   "outputs": [],
   "source": [
    "#merging data from TMDB API dataset and Movie Mojo webscraped dataset\n",
    "#cleaning merged data by dropping unneeded columns & renaming columns\n",
    "\n",
    "df1=pd.read_csv('mdbv2.csv',index_col=0)\n",
    "df2=pd.read_csv('movie_subgenres.csv',index_col=0)\n",
    "df1.reset_index(inplace=True)\n",
    "df1.rename(columns={'title':'Title'},inplace=True)\n",
    "sci_fi_df=pd.merge(df1,df2,on='Title')\n",
    "sci_fi_df.rename(columns={'Lifetime_Gross': 'Revenue'},inplace=True)\n",
    "sci_fi_df.rename(columns={'popularity': 'Popularity','vote_count':'Vote_Count', \n",
    "                          'vote_average': 'Vote_Average','release_date':'Release_Date'},inplace=True)\n",
    "sci_fi_df.rename(columns={'genre':'Genre'},inplace=True)\n",
    "sci_fi_df.drop(['mdb_id','Date_Released'],axis=1, inplace=True)\n",
    "ratings_df=pd.read_csv('Ratings.csv')"
   ]
  },
  {
   "cell_type": "code",
   "execution_count": 8,
   "metadata": {
    "scrolled": true
   },
   "outputs": [
    {
     "data": {
      "text/plain": [
       "Index(['Unnamed: 0', 'Title', 'Rating', 'Popularity', 'Vote_Count',\n",
       "       'Vote_Average', 'Release_Date', 'Genre', 'Revenue', 'Subgenre'],\n",
       "      dtype='object')"
      ]
     },
     "execution_count": 8,
     "metadata": {},
     "output_type": "execute_result"
    }
   ],
   "source": [
    "#merging third dataset from OMDB for movie ratings\n",
    "scifi_df=pd.merge(ratings_df,sci_fi_df,on='Title') \n",
    "scifi_df.columns"
   ]
  },
  {
   "cell_type": "code",
   "execution_count": 9,
   "metadata": {},
   "outputs": [],
   "source": [
    "#cleaning full DF, dropping extra column\n",
    "scifi_df.drop(columns='Unnamed: 0',inplace=True)\n"
   ]
  },
  {
   "cell_type": "code",
   "execution_count": 10,
   "metadata": {},
   "outputs": [
    {
     "data": {
      "text/html": [
       "<div>\n",
       "<style scoped>\n",
       "    .dataframe tbody tr th:only-of-type {\n",
       "        vertical-align: middle;\n",
       "    }\n",
       "\n",
       "    .dataframe tbody tr th {\n",
       "        vertical-align: top;\n",
       "    }\n",
       "\n",
       "    .dataframe thead th {\n",
       "        text-align: right;\n",
       "    }\n",
       "</style>\n",
       "<table border=\"1\" class=\"dataframe\">\n",
       "  <thead>\n",
       "    <tr style=\"text-align: right;\">\n",
       "      <th></th>\n",
       "      <th>Title</th>\n",
       "      <th>Rating</th>\n",
       "      <th>Popularity</th>\n",
       "      <th>Vote_Count</th>\n",
       "      <th>Vote_Average</th>\n",
       "      <th>Release_Date</th>\n",
       "      <th>Genre</th>\n",
       "      <th>Revenue</th>\n",
       "      <th>Subgenre</th>\n",
       "    </tr>\n",
       "  </thead>\n",
       "  <tbody>\n",
       "    <tr>\n",
       "      <td>0</td>\n",
       "      <td>Sunshine</td>\n",
       "      <td>R</td>\n",
       "      <td>23.118</td>\n",
       "      <td>2228</td>\n",
       "      <td>7.0</td>\n",
       "      <td>2007-04-05</td>\n",
       "      <td>sci-fi</td>\n",
       "      <td>3675753</td>\n",
       "      <td>Future</td>\n",
       "    </tr>\n",
       "    <tr>\n",
       "      <td>1</td>\n",
       "      <td>Prometheus</td>\n",
       "      <td>R</td>\n",
       "      <td>31.760</td>\n",
       "      <td>8222</td>\n",
       "      <td>6.4</td>\n",
       "      <td>2012-05-30</td>\n",
       "      <td>sci-fi</td>\n",
       "      <td>126477084</td>\n",
       "      <td>Robot</td>\n",
       "    </tr>\n",
       "    <tr>\n",
       "      <td>2</td>\n",
       "      <td>Prometheus</td>\n",
       "      <td>R</td>\n",
       "      <td>31.760</td>\n",
       "      <td>8222</td>\n",
       "      <td>6.4</td>\n",
       "      <td>2012-05-30</td>\n",
       "      <td>sci-fi</td>\n",
       "      <td>126477084</td>\n",
       "      <td>Future</td>\n",
       "    </tr>\n",
       "    <tr>\n",
       "      <td>3</td>\n",
       "      <td>Fantastic Four</td>\n",
       "      <td>PG-13</td>\n",
       "      <td>29.840</td>\n",
       "      <td>6401</td>\n",
       "      <td>5.7</td>\n",
       "      <td>2005-06-29</td>\n",
       "      <td>sci-fi</td>\n",
       "      <td>154696080</td>\n",
       "      <td>Superhero</td>\n",
       "    </tr>\n",
       "    <tr>\n",
       "      <td>4</td>\n",
       "      <td>Fantastic Four</td>\n",
       "      <td>PG-13</td>\n",
       "      <td>29.840</td>\n",
       "      <td>6401</td>\n",
       "      <td>5.7</td>\n",
       "      <td>2005-06-29</td>\n",
       "      <td>sci-fi</td>\n",
       "      <td>56117548</td>\n",
       "      <td>Superhero</td>\n",
       "    </tr>\n",
       "    <tr>\n",
       "      <td>...</td>\n",
       "      <td>...</td>\n",
       "      <td>...</td>\n",
       "      <td>...</td>\n",
       "      <td>...</td>\n",
       "      <td>...</td>\n",
       "      <td>...</td>\n",
       "      <td>...</td>\n",
       "      <td>...</td>\n",
       "      <td>...</td>\n",
       "    </tr>\n",
       "    <tr>\n",
       "      <td>283</td>\n",
       "      <td>Hellboy</td>\n",
       "      <td>PG-13</td>\n",
       "      <td>23.477</td>\n",
       "      <td>1722</td>\n",
       "      <td>5.3</td>\n",
       "      <td>2019-04-10</td>\n",
       "      <td>sci-fi</td>\n",
       "      <td>59623958</td>\n",
       "      <td>Superhero</td>\n",
       "    </tr>\n",
       "    <tr>\n",
       "      <td>284</td>\n",
       "      <td>The Incredible Hulk</td>\n",
       "      <td>PG-13</td>\n",
       "      <td>39.485</td>\n",
       "      <td>7322</td>\n",
       "      <td>6.2</td>\n",
       "      <td>2008-06-12</td>\n",
       "      <td>sci-fi</td>\n",
       "      <td>134806913</td>\n",
       "      <td>Superhero</td>\n",
       "    </tr>\n",
       "    <tr>\n",
       "      <td>285</td>\n",
       "      <td>Arrival</td>\n",
       "      <td>PG-13</td>\n",
       "      <td>36.084</td>\n",
       "      <td>11913</td>\n",
       "      <td>7.5</td>\n",
       "      <td>2016-11-10</td>\n",
       "      <td>sci-fi</td>\n",
       "      <td>100546139</td>\n",
       "      <td>Alien_Invasion</td>\n",
       "    </tr>\n",
       "    <tr>\n",
       "      <td>286</td>\n",
       "      <td>The Host</td>\n",
       "      <td>PG-13</td>\n",
       "      <td>13.322</td>\n",
       "      <td>3085</td>\n",
       "      <td>6.3</td>\n",
       "      <td>2013-03-22</td>\n",
       "      <td>sci-fi</td>\n",
       "      <td>26627201</td>\n",
       "      <td>Alien_Invasion</td>\n",
       "    </tr>\n",
       "    <tr>\n",
       "      <td>287</td>\n",
       "      <td>The 6th Day</td>\n",
       "      <td>PG-13</td>\n",
       "      <td>17.636</td>\n",
       "      <td>1160</td>\n",
       "      <td>5.9</td>\n",
       "      <td>2000-11-17</td>\n",
       "      <td>sci-fi</td>\n",
       "      <td>34604280</td>\n",
       "      <td>Future</td>\n",
       "    </tr>\n",
       "  </tbody>\n",
       "</table>\n",
       "<p>288 rows × 9 columns</p>\n",
       "</div>"
      ],
      "text/plain": [
       "                   Title Rating  Popularity  Vote_Count  Vote_Average  \\\n",
       "0               Sunshine      R      23.118        2228           7.0   \n",
       "1             Prometheus      R      31.760        8222           6.4   \n",
       "2             Prometheus      R      31.760        8222           6.4   \n",
       "3         Fantastic Four  PG-13      29.840        6401           5.7   \n",
       "4         Fantastic Four  PG-13      29.840        6401           5.7   \n",
       "..                   ...    ...         ...         ...           ...   \n",
       "283              Hellboy  PG-13      23.477        1722           5.3   \n",
       "284  The Incredible Hulk  PG-13      39.485        7322           6.2   \n",
       "285              Arrival  PG-13      36.084       11913           7.5   \n",
       "286             The Host  PG-13      13.322        3085           6.3   \n",
       "287          The 6th Day  PG-13      17.636        1160           5.9   \n",
       "\n",
       "    Release_Date   Genre    Revenue        Subgenre  \n",
       "0     2007-04-05  sci-fi    3675753          Future  \n",
       "1     2012-05-30  sci-fi  126477084           Robot  \n",
       "2     2012-05-30  sci-fi  126477084          Future  \n",
       "3     2005-06-29  sci-fi  154696080       Superhero  \n",
       "4     2005-06-29  sci-fi   56117548       Superhero  \n",
       "..           ...     ...        ...             ...  \n",
       "283   2019-04-10  sci-fi   59623958       Superhero  \n",
       "284   2008-06-12  sci-fi  134806913       Superhero  \n",
       "285   2016-11-10  sci-fi  100546139  Alien_Invasion  \n",
       "286   2013-03-22  sci-fi   26627201  Alien_Invasion  \n",
       "287   2000-11-17  sci-fi   34604280          Future  \n",
       "\n",
       "[288 rows x 9 columns]"
      ]
     },
     "execution_count": 10,
     "metadata": {},
     "output_type": "execute_result"
    }
   ],
   "source": [
    "scifi_df #final DF with all three datasets merged "
   ]
  },
  {
   "cell_type": "markdown",
   "metadata": {},
   "source": [
    "### What is the title and subgenre of the sci-fi film with the highest generated revenue? How does this compare to the highest rated movie (using popularity score)? \n",
    "\n",
    "Highest Revenue: Avengers: Endgame, Supernatural\n",
    "\n",
    "\n",
    "Highest Popularity Sco: Spider-Man: Far From Home, Supernatural"
   ]
  },
  {
   "cell_type": "code",
   "execution_count": 207,
   "metadata": {},
   "outputs": [
    {
     "data": {
      "text/html": [
       "<div>\n",
       "<style scoped>\n",
       "    .dataframe tbody tr th:only-of-type {\n",
       "        vertical-align: middle;\n",
       "    }\n",
       "\n",
       "    .dataframe tbody tr th {\n",
       "        vertical-align: top;\n",
       "    }\n",
       "\n",
       "    .dataframe thead th {\n",
       "        text-align: right;\n",
       "    }\n",
       "</style>\n",
       "<table border=\"1\" class=\"dataframe\">\n",
       "  <thead>\n",
       "    <tr style=\"text-align: right;\">\n",
       "      <th></th>\n",
       "      <th>Title</th>\n",
       "      <th>Rating</th>\n",
       "      <th>Popularity</th>\n",
       "      <th>Vote_Count</th>\n",
       "      <th>Vote_Average</th>\n",
       "      <th>Release_Date</th>\n",
       "      <th>Genre</th>\n",
       "      <th>Revenue</th>\n",
       "      <th>Subgenre</th>\n",
       "    </tr>\n",
       "  </thead>\n",
       "  <tbody>\n",
       "    <tr>\n",
       "      <td>7</td>\n",
       "      <td>Spider-Man: Far from Home</td>\n",
       "      <td>PG-13</td>\n",
       "      <td>91.951</td>\n",
       "      <td>6800</td>\n",
       "      <td>7.5</td>\n",
       "      <td>2019-06-28</td>\n",
       "      <td>sci-fi</td>\n",
       "      <td>390532085</td>\n",
       "      <td>Supernatural</td>\n",
       "    </tr>\n",
       "  </tbody>\n",
       "</table>\n",
       "</div>"
      ],
      "text/plain": [
       "                       Title Rating  Popularity  Vote_Count  Vote_Average  \\\n",
       "7  Spider-Man: Far from Home  PG-13      91.951        6800           7.5   \n",
       "\n",
       "  Release_Date   Genre    Revenue      Subgenre  \n",
       "7   2019-06-28  sci-fi  390532085  Supernatural  "
      ]
     },
     "execution_count": 207,
     "metadata": {},
     "output_type": "execute_result"
    }
   ],
   "source": [
    "#return movie details for highest generated revenue\n",
    "#return movie details for higest rated by vote average\n",
    "\n",
    "scifi_df.sort_values(by='Revenue',ascending=False).head(1)\n",
    "scifi_df.sort_values(by='Popularity',ascending=False).head(1)"
   ]
  },
  {
   "cell_type": "markdown",
   "metadata": {},
   "source": [
    "What scifi film has the lowest generated revenue?"
   ]
  },
  {
   "cell_type": "code",
   "execution_count": null,
   "metadata": {
    "collapsed": true
   },
   "outputs": [],
   "source": [
    "#code to do stuff -jude , also add lowest rated movie\n",
    "\n",
    "sci_fi_df.sort_values(by='Revenue',ascending=True).head(1)['Title']"
   ]
  },
  {
   "cell_type": "markdown",
   "metadata": {},
   "source": [
    "### What does the average popularity score look like by subgenre? "
   ]
  },
  {
   "cell_type": "code",
   "execution_count": 160,
   "metadata": {
    "scrolled": true
   },
   "outputs": [
    {
     "data": {
      "image/png": "[encoded data removed]",
      "text/plain": [
       "<Figure size 720x360 with 1 Axes>"
      ]
     },
     "metadata": {
      "needs_background": "light"
     },
     "output_type": "display_data"
    }
   ],
   "source": [
    "#plots each subgenre's average popularity score in a horizontal bar graph\n",
    "#use of bar plot allows subgenres to be compared \n",
    "\n",
    "Avg_pop_by_sub=scifi_df.groupby('Subgenre')['Popularity'].mean()\n",
    "Fig1=Avg_pop_by_sub.plot(kind='barh',figsize=(10,5),grid=False,color='purple')\n",
    "Fig1.set_title('Comparing Popularity score by Subgenre',fontdict={'size':16})\n",
    "Fig1.set_xlabel('Average Popularity Score',fontdict={'size':14})\n",
    "Fig1.set_ylabel('Subgenre',fontdict={'size':14})\n",
    "plt.xticks(fontsize=12)\n",
    "plt.yticks(fontsize=12)\n",
    "\n",
    "plt.show()"
   ]
  },
  {
   "cell_type": "markdown",
   "metadata": {},
   "source": [
    "### How does each subgenre's average revenue compare? "
   ]
  },
  {
   "cell_type": "code",
   "execution_count": 161,
   "metadata": {
    "scrolled": true
   },
   "outputs": [
    {
     "data": {
      "image/png": "[encoded data removed]",
      "text/plain": [
       "<Figure size 432x288 with 1 Axes>"
      ]
     },
     "metadata": {
      "needs_background": "light"
     },
     "output_type": "display_data"
    }
   ],
   "source": [
    "#plots each subgenre's revenue average in a vertical bar graph\n",
    "\n",
    "from matplotlib.ticker import FuncFormatter\n",
    "def millions(x, pos):\n",
    "    #'The two args are the value and tick position'\n",
    "    return '$%1.1fM' % (x * 1e-6)\n",
    "\n",
    "formatter = FuncFormatter(millions)\n",
    "\n",
    "Avg_rev_by_sub=scifi_df.groupby('Subgenre')['Revenue'].mean()\n",
    "Fig2=Avg_rev_by_sub.plot(kind='bar',grid=False,color='orange')\n",
    "Fig2.set_title('Comparing Average Revenue by Subgenre',fontdict={'size':16})\n",
    "Fig2.set_xlabel('Subgenre',fontdict={'size':14})\n",
    "Fig2.set_ylabel('Average Revenue ($)',fontdict={'size':14})\n",
    "Fig2.yaxis.set_major_formatter(formatter)\n",
    "plt.xticks(fontsize=12)\n",
    "plt.yticks(fontsize=12)\n",
    "\n",
    "plt.show()"
   ]
  },
  {
   "cell_type": "markdown",
   "metadata": {},
   "source": [
    "Relationship and Correlation"
   ]
  },
  {
   "cell_type": "code",
   "execution_count": 15,
   "metadata": {
    "scrolled": false
   },
   "outputs": [
    {
     "data": {
      "image/png": "[encoded data removed]",
      "text/plain": [
       "<matplotlib.figure.Figure at 0x11a970b38>"
      ]
     },
     "metadata": {},
     "output_type": "display_data"
    }
   ],
   "source": [
    "#What is the correlation of revenue and popularity? -Jude\n",
    "#Popularity has a higher correlation with revenue \n",
    "\n",
    "sci_fi_df.plot(kind='scatter',x='Revenue',y='Popularity')\n",
    "plt.show()"
   ]
  },
  {
   "cell_type": "code",
   "execution_count": 17,
   "metadata": {
    "scrolled": true
   },
   "outputs": [
    {
     "data": {
      "text/plain": [
       "0.58841133208579954"
      ]
     },
     "execution_count": 17,
     "metadata": {},
     "output_type": "execute_result"
    }
   ],
   "source": [
    "#Correlation between Revenue and Popularity -Jude\n",
    "\n",
    "sci_fi_df['Revenue'].corr(sci_fi_df['Popularity'])"
   ]
  },
  {
   "cell_type": "markdown",
   "metadata": {},
   "source": [
    "### What are the Top 10 highest grossing Sci-Fi Movies? What is the distribution of ratings across the Top 10?"
   ]
  },
  {
   "cell_type": "code",
   "execution_count": 206,
   "metadata": {},
   "outputs": [
    {
     "data": {
      "text/html": [
       "<div>\n",
       "<style scoped>\n",
       "    .dataframe tbody tr th:only-of-type {\n",
       "        vertical-align: middle;\n",
       "    }\n",
       "\n",
       "    .dataframe tbody tr th {\n",
       "        vertical-align: top;\n",
       "    }\n",
       "\n",
       "    .dataframe thead th {\n",
       "        text-align: right;\n",
       "    }\n",
       "</style>\n",
       "<table border=\"1\" class=\"dataframe\">\n",
       "  <thead>\n",
       "    <tr style=\"text-align: right;\">\n",
       "      <th></th>\n",
       "      <th>Title</th>\n",
       "    </tr>\n",
       "  </thead>\n",
       "  <tbody>\n",
       "    <tr>\n",
       "      <td>0</td>\n",
       "      <td>Avengers: Endgame</td>\n",
       "    </tr>\n",
       "    <tr>\n",
       "      <td>1</td>\n",
       "      <td>Avatar</td>\n",
       "    </tr>\n",
       "    <tr>\n",
       "      <td>2</td>\n",
       "      <td>Black Panther</td>\n",
       "    </tr>\n",
       "    <tr>\n",
       "      <td>3</td>\n",
       "      <td>Avengers: Infinity War</td>\n",
       "    </tr>\n",
       "    <tr>\n",
       "      <td>4</td>\n",
       "      <td>The Avengers</td>\n",
       "    </tr>\n",
       "    <tr>\n",
       "      <td>5</td>\n",
       "      <td>Avengers: Age of Ultron</td>\n",
       "    </tr>\n",
       "    <tr>\n",
       "      <td>6</td>\n",
       "      <td>Captain Marvel</td>\n",
       "    </tr>\n",
       "    <tr>\n",
       "      <td>7</td>\n",
       "      <td>The Hunger Games: Catching Fire</td>\n",
       "    </tr>\n",
       "    <tr>\n",
       "      <td>8</td>\n",
       "      <td>Wonder Woman</td>\n",
       "    </tr>\n",
       "    <tr>\n",
       "      <td>9</td>\n",
       "      <td>Iron Man 3</td>\n",
       "    </tr>\n",
       "  </tbody>\n",
       "</table>\n",
       "</div>"
      ],
      "text/plain": [
       "                             Title\n",
       "0                Avengers: Endgame\n",
       "1                           Avatar\n",
       "2                    Black Panther\n",
       "3           Avengers: Infinity War\n",
       "4                     The Avengers\n",
       "5          Avengers: Age of Ultron\n",
       "6                   Captain Marvel\n",
       "7  The Hunger Games: Catching Fire\n",
       "8                     Wonder Woman\n",
       "9                       Iron Man 3"
      ]
     },
     "execution_count": 206,
     "metadata": {},
     "output_type": "execute_result"
    }
   ],
   "source": [
    "#top 10 sci-fi movies determined by revenue \n",
    "\n",
    "top_10=scifi_df.drop_duplicates(subset='Title',inplace=False).sort_values(by='Revenue',ascending=False).head(10)\n",
    "top_10_df=pd.DataFrame(top_10['Title'])\n",
    "top_10_df.reset_index(inplace=True,drop=True)\n",
    "top_10_df"
   ]
  },
  {
   "cell_type": "code",
   "execution_count": 198,
   "metadata": {},
   "outputs": [
    {
     "data": {
      "text/plain": [
       "PG-13    10\n",
       "Name: Rating, dtype: int64"
      ]
     },
     "execution_count": 198,
     "metadata": {},
     "output_type": "execute_result"
    }
   ],
   "source": [
    "#this shows the distribution of rating across the top 10\n",
    "top_10['Rating'].value_counts()"
   ]
  },
  {
   "cell_type": "code",
   "execution_count": null,
   "metadata": {
    "collapsed": true
   },
   "outputs": [],
   "source": [
    "#What is the distribution like? <-Jude "
   ]
  },
  {
   "cell_type": "code",
   "execution_count": null,
   "metadata": {
    "collapsed": true
   },
   "outputs": [],
   "source": [
    "#Are there any outliers? <-Jude \n"
   ]
  },
  {
   "cell_type": "code",
   "execution_count": null,
   "metadata": {
    "collapsed": true
   },
   "outputs": [],
   "source": []
  },
  {
   "cell_type": "markdown",
   "metadata": {},
   "source": [
    "## Final Thoughts & Summary:"
   ]
  },
  {
   "cell_type": "code",
   "execution_count": null,
   "metadata": {
    "collapsed": true
   },
   "outputs": [],
   "source": [
    "#Overall suggestion and final thoughts to Microsoft?\n"
   ]
  },
  {
   "cell_type": "code",
   "execution_count": null,
   "metadata": {
    "collapsed": true
   },
   "outputs": [],
   "source": []
  },
  {
   "cell_type": "code",
   "execution_count": null,
   "metadata": {
    "collapsed": true
   },
   "outputs": [],
   "source": [
    "\n"
   ]
  },
  {
   "cell_type": "code",
   "execution_count": null,
   "metadata": {
    "collapsed": true
   },
   "outputs": [],
   "source": []
  }
 ],
 "metadata": {
  "anaconda-cloud": {},
  "kernelspec": {
   "display_name": "Python 3",
   "language": "python",
   "name": "python3"
  },
  "language_info": {
   "codemirror_mode": {
    "name": "ipython",
    "version": 3
   },
   "file_extension": ".py",
   "mimetype": "text/x-python",
   "name": "python",
   "nbconvert_exporter": "python",
   "pygments_lexer": "ipython3",
   "version": "3.7.4"
  }
 },
 "nbformat": 4,
 "nbformat_minor": 1
}
