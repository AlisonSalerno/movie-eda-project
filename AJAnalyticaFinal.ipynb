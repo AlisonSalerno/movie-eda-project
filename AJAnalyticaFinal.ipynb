{
 "cells": [
  {
   "cell_type": "markdown",
   "metadata": {},
   "source": [
    "## The Microsoft Scifi Project - A&J Analytica\n",
    "\n",
    "Microsoft sees all the big companies creating original video content, and they want to get in on the fun. They have decided to create a new movie studio, but the problem is they don’t know anything about creating movies. They also want to capture a niche and create only sci-fi movies. They have hired A&J Analytica to help them better understand the scifi genre. Your team is charged with doing data analysis and creating a presentation that explores what type of sci-fi films are currently doing the best at the box office. You must then translate those findings into actionable insights that the CEO can use when deciding what type of films they should be creating."
   ]
  },
  {
   "cell_type": "markdown",
   "metadata": {},
   "source": [
    "## Checklist:\n",
    "\n",
    "- Organization/Code Cleanliness\n",
    "\n",
    "     Your notebook should contain 1 - 2 paragraphs briefly explaining your approach to this project.\n",
    "     \n",
    "     \n",
    "- Visualizations & EDA\n",
    "\n",
    "    Your project contains at least 4 meaningful data visualizations, with corresponding interpretations. All visualizations are well labeled with axes labels, a title, and a legend (when appropriate)\n",
    "    \n",
    "    You pose at least 3 meaningful questions and answer them through EDA. These questions should be well labeled and easy to identify inside the notebook.\n",
    "    \n",
    "     Level Up: Each question is clearly answered with a visualization that makes the answer easy to understand.\n",
    "   \n",
    "\n",
    "\n",
    "- Questions:\n"
   ]
  },
  {
   "cell_type": "code",
   "execution_count": 1,
   "metadata": {
    "collapsed": true
   },
   "outputs": [],
   "source": [
    "#import packages needed\n",
    "\n",
    "import pandas as pd\n",
    "import matplotlib.pyplot as plt\n",
    "from matplotlib import style\n",
    "style.use('fivethirtyeight')\n",
    "import numpy as np\n",
    "import json\n",
    "import requests\n",
    "from bs4 import BeautifulSoup\n",
    "from re import sub\n",
    "from decimal import Decimal\n",
    "%matplotlib inline"
   ]
  },
  {
   "cell_type": "code",
   "execution_count": 3,
   "metadata": {},
   "outputs": [],
   "source": [
    "#setting and cleaning data up from API dataset and Webscraped dataset\n",
    "\n",
    "df1=pd.read_csv('mdbv2.csv',index_col=0)\n",
    "df2=pd.read_csv('movie_subgenres.csv',index_col=0)\n",
    "df1.reset_index(inplace=True)\n",
    "df1.rename(columns={'title':'Title'},inplace=True)\n",
    "sci_fi_df=pd.merge(df1,df2,on='Title')\n",
    "sci_fi_df.rename(columns={'Lifetime_Gross': 'Revenue'},inplace=True)\n",
    "sci_fi_df.rename(columns={'popularity': 'Popularity','vote_count':'Vote_Count', \n",
    "                          'vote_average': 'Vote_Average','release_date':'Release_Date'},inplace=True)\n",
    "sci_fi_df.rename(columns={'genre':'Genre'},inplace=True)\n",
    "sci_fi_df.drop(['mdb_id','Date_Released'],axis=1, inplace=True)"
   ]
  },
  {
   "cell_type": "code",
   "execution_count": 8,
   "metadata": {
    "scrolled": true
   },
   "outputs": [
    {
     "data": {
      "text/html": [
       "<div>\n",
       "<table border=\"1\" class=\"dataframe\">\n",
       "  <thead>\n",
       "    <tr style=\"text-align: right;\">\n",
       "      <th></th>\n",
       "      <th>Title</th>\n",
       "      <th>Popularity</th>\n",
       "      <th>Vote_Count</th>\n",
       "      <th>Vote_Average</th>\n",
       "      <th>Release_Date</th>\n",
       "      <th>Genre</th>\n",
       "      <th>Revenue</th>\n",
       "      <th>Subgenre</th>\n",
       "    </tr>\n",
       "  </thead>\n",
       "  <tbody>\n",
       "    <tr>\n",
       "      <th>0</th>\n",
       "      <td>Avengers: Endgame</td>\n",
       "      <td>58.985</td>\n",
       "      <td>12386</td>\n",
       "      <td>8.3</td>\n",
       "      <td>2019-04-24</td>\n",
       "      <td>sci-fi</td>\n",
       "      <td>858373000</td>\n",
       "      <td>Supernatural</td>\n",
       "    </tr>\n",
       "    <tr>\n",
       "      <th>1</th>\n",
       "      <td>Avengers: Endgame</td>\n",
       "      <td>58.985</td>\n",
       "      <td>12386</td>\n",
       "      <td>8.3</td>\n",
       "      <td>2019-04-24</td>\n",
       "      <td>sci-fi</td>\n",
       "      <td>858373000</td>\n",
       "      <td>Alien_Invasion</td>\n",
       "    </tr>\n",
       "    <tr>\n",
       "      <th>2</th>\n",
       "      <td>Avengers: Endgame</td>\n",
       "      <td>58.985</td>\n",
       "      <td>12386</td>\n",
       "      <td>8.3</td>\n",
       "      <td>2019-04-24</td>\n",
       "      <td>sci-fi</td>\n",
       "      <td>858373000</td>\n",
       "      <td>Time_Travel</td>\n",
       "    </tr>\n",
       "    <tr>\n",
       "      <th>3</th>\n",
       "      <td>Avengers: Endgame</td>\n",
       "      <td>58.985</td>\n",
       "      <td>12386</td>\n",
       "      <td>8.3</td>\n",
       "      <td>2019-04-24</td>\n",
       "      <td>sci-fi</td>\n",
       "      <td>858373000</td>\n",
       "      <td>Superhero</td>\n",
       "    </tr>\n",
       "    <tr>\n",
       "      <th>4</th>\n",
       "      <td>Avatar</td>\n",
       "      <td>60.213</td>\n",
       "      <td>20869</td>\n",
       "      <td>7.4</td>\n",
       "      <td>2009-12-10</td>\n",
       "      <td>sci-fi</td>\n",
       "      <td>749766139</td>\n",
       "      <td>Affliction</td>\n",
       "    </tr>\n",
       "    <tr>\n",
       "      <th>5</th>\n",
       "      <td>Avengers: Infinity War</td>\n",
       "      <td>87.698</td>\n",
       "      <td>17541</td>\n",
       "      <td>8.3</td>\n",
       "      <td>2018-04-25</td>\n",
       "      <td>sci-fi</td>\n",
       "      <td>678815482</td>\n",
       "      <td>Supernatural</td>\n",
       "    </tr>\n",
       "    <tr>\n",
       "      <th>6</th>\n",
       "      <td>Avengers: Infinity War</td>\n",
       "      <td>87.698</td>\n",
       "      <td>17541</td>\n",
       "      <td>8.3</td>\n",
       "      <td>2018-04-25</td>\n",
       "      <td>sci-fi</td>\n",
       "      <td>678815482</td>\n",
       "      <td>Superhero</td>\n",
       "    </tr>\n",
       "    <tr>\n",
       "      <th>7</th>\n",
       "      <td>The Avengers</td>\n",
       "      <td>51.985</td>\n",
       "      <td>21978</td>\n",
       "      <td>7.7</td>\n",
       "      <td>2012-04-25</td>\n",
       "      <td>sci-fi</td>\n",
       "      <td>623357910</td>\n",
       "      <td>Supernatural</td>\n",
       "    </tr>\n",
       "    <tr>\n",
       "      <th>8</th>\n",
       "      <td>The Avengers</td>\n",
       "      <td>51.985</td>\n",
       "      <td>21978</td>\n",
       "      <td>7.7</td>\n",
       "      <td>2012-04-25</td>\n",
       "      <td>sci-fi</td>\n",
       "      <td>623357910</td>\n",
       "      <td>Alien_Invasion</td>\n",
       "    </tr>\n",
       "    <tr>\n",
       "      <th>9</th>\n",
       "      <td>The Avengers</td>\n",
       "      <td>51.985</td>\n",
       "      <td>21978</td>\n",
       "      <td>7.7</td>\n",
       "      <td>2012-04-25</td>\n",
       "      <td>sci-fi</td>\n",
       "      <td>623357910</td>\n",
       "      <td>Superhero</td>\n",
       "    </tr>\n",
       "  </tbody>\n",
       "</table>\n",
       "</div>"
      ],
      "text/plain": [
       "                    Title  Popularity  Vote_Count  Vote_Average Release_Date  \\\n",
       "0       Avengers: Endgame      58.985       12386           8.3   2019-04-24   \n",
       "1       Avengers: Endgame      58.985       12386           8.3   2019-04-24   \n",
       "2       Avengers: Endgame      58.985       12386           8.3   2019-04-24   \n",
       "3       Avengers: Endgame      58.985       12386           8.3   2019-04-24   \n",
       "4                  Avatar      60.213       20869           7.4   2009-12-10   \n",
       "5  Avengers: Infinity War      87.698       17541           8.3   2018-04-25   \n",
       "6  Avengers: Infinity War      87.698       17541           8.3   2018-04-25   \n",
       "7            The Avengers      51.985       21978           7.7   2012-04-25   \n",
       "8            The Avengers      51.985       21978           7.7   2012-04-25   \n",
       "9            The Avengers      51.985       21978           7.7   2012-04-25   \n",
       "\n",
       "    Genre    Revenue        Subgenre  \n",
       "0  sci-fi  858373000    Supernatural  \n",
       "1  sci-fi  858373000  Alien_Invasion  \n",
       "2  sci-fi  858373000     Time_Travel  \n",
       "3  sci-fi  858373000       Superhero  \n",
       "4  sci-fi  749766139      Affliction  \n",
       "5  sci-fi  678815482    Supernatural  \n",
       "6  sci-fi  678815482       Superhero  \n",
       "7  sci-fi  623357910    Supernatural  \n",
       "8  sci-fi  623357910  Alien_Invasion  \n",
       "9  sci-fi  623357910       Superhero  "
      ]
     },
     "execution_count": 8,
     "metadata": {},
     "output_type": "execute_result"
    }
   ],
   "source": [
    "sci_fi_df.head(10)"
   ]
  },
  {
   "cell_type": "code",
   "execution_count": 25,
   "metadata": {},
   "outputs": [
    {
     "data": {
      "text/html": [
       "<div>\n",
       "<table border=\"1\" class=\"dataframe\">\n",
       "  <thead>\n",
       "    <tr style=\"text-align: right;\">\n",
       "      <th></th>\n",
       "      <th>Popularity</th>\n",
       "      <th>Vote_Count</th>\n",
       "      <th>Vote_Average</th>\n",
       "      <th>Revenue</th>\n",
       "    </tr>\n",
       "  </thead>\n",
       "  <tbody>\n",
       "    <tr>\n",
       "      <th>count</th>\n",
       "      <td>288.000000</td>\n",
       "      <td>288.000000</td>\n",
       "      <td>288.000000</td>\n",
       "      <td>2.880000e+02</td>\n",
       "    </tr>\n",
       "    <tr>\n",
       "      <th>mean</th>\n",
       "      <td>28.006097</td>\n",
       "      <td>6424.965278</td>\n",
       "      <td>6.411806</td>\n",
       "      <td>1.698343e+08</td>\n",
       "    </tr>\n",
       "    <tr>\n",
       "      <th>std</th>\n",
       "      <td>16.298798</td>\n",
       "      <td>5242.019668</td>\n",
       "      <td>1.222467</td>\n",
       "      <td>1.708780e+08</td>\n",
       "    </tr>\n",
       "    <tr>\n",
       "      <th>min</th>\n",
       "      <td>0.600000</td>\n",
       "      <td>0.000000</td>\n",
       "      <td>0.000000</td>\n",
       "      <td>7.200000e+01</td>\n",
       "    </tr>\n",
       "    <tr>\n",
       "      <th>25%</th>\n",
       "      <td>16.040250</td>\n",
       "      <td>2059.250000</td>\n",
       "      <td>5.900000</td>\n",
       "      <td>4.389860e+07</td>\n",
       "    </tr>\n",
       "    <tr>\n",
       "      <th>50%</th>\n",
       "      <td>26.165500</td>\n",
       "      <td>5459.000000</td>\n",
       "      <td>6.600000</td>\n",
       "      <td>1.264771e+08</td>\n",
       "    </tr>\n",
       "    <tr>\n",
       "      <th>75%</th>\n",
       "      <td>37.971500</td>\n",
       "      <td>8903.750000</td>\n",
       "      <td>7.225000</td>\n",
       "      <td>2.339215e+08</td>\n",
       "    </tr>\n",
       "    <tr>\n",
       "      <th>max</th>\n",
       "      <td>91.951000</td>\n",
       "      <td>21978.000000</td>\n",
       "      <td>8.400000</td>\n",
       "      <td>8.583730e+08</td>\n",
       "    </tr>\n",
       "  </tbody>\n",
       "</table>\n",
       "</div>"
      ],
      "text/plain": [
       "       Popularity    Vote_Count  Vote_Average       Revenue\n",
       "count  288.000000    288.000000    288.000000  2.880000e+02\n",
       "mean    28.006097   6424.965278      6.411806  1.698343e+08\n",
       "std     16.298798   5242.019668      1.222467  1.708780e+08\n",
       "min      0.600000      0.000000      0.000000  7.200000e+01\n",
       "25%     16.040250   2059.250000      5.900000  4.389860e+07\n",
       "50%     26.165500   5459.000000      6.600000  1.264771e+08\n",
       "75%     37.971500   8903.750000      7.225000  2.339215e+08\n",
       "max     91.951000  21978.000000      8.400000  8.583730e+08"
      ]
     },
     "execution_count": 25,
     "metadata": {},
     "output_type": "execute_result"
    }
   ],
   "source": [
    "sci_fi_df.describe()"
   ]
  },
  {
   "cell_type": "markdown",
   "metadata": {},
   "source": [
    "What scifi film has the highest generated revenue?\n",
    "\n",
    "Avengers: Endgame"
   ]
  },
  {
   "cell_type": "code",
   "execution_count": 10,
   "metadata": {},
   "outputs": [],
   "source": [
    "#code to do that -alison , also add highest rated movie\n",
    "\n",
    "sci_fi_df.sort_values(by='Revenue',ascending=False).head(1)['Title']"
   ]
  },
  {
   "cell_type": "markdown",
   "metadata": {},
   "source": [
    "What scifi film has the lowest generated revenue?"
   ]
  },
  {
   "cell_type": "code",
   "execution_count": null,
   "metadata": {
    "collapsed": true
   },
   "outputs": [],
   "source": [
    "#code to do stuff -jude , also add lowest rated movie\n",
    "\n",
    "sci_fi_df.sort_values(by='Revenue',ascending=True).head(1)['Title']"
   ]
  },
  {
   "cell_type": "markdown",
   "metadata": {},
   "source": [
    "tbd"
   ]
  },
  {
   "cell_type": "code",
   "execution_count": 12,
   "metadata": {
    "scrolled": true
   },
   "outputs": [
    {
     "data": {
      "image/png": "[encoded data removed]",
      "text/plain": [
       "<matplotlib.figure.Figure at 0x11794d198>"
      ]
     },
     "metadata": {},
     "output_type": "display_data"
    }
   ],
   "source": [
    "#subgenre by vote average plot -alison, look into something else\n",
    "\n",
    "sci_fi_df.groupby('Subgenre')['Vote_Average'].mean().plot(kind='barh')\n",
    "plt.show()"
   ]
  },
  {
   "cell_type": "code",
   "execution_count": 14,
   "metadata": {
    "scrolled": true
   },
   "outputs": [
    {
     "data": {
      "image/png": "[encoded data removed]",
      "text/plain": [
       "<matplotlib.figure.Figure at 0x11a5b9860>"
      ]
     },
     "metadata": {},
     "output_type": "display_data"
    }
   ],
   "source": [
    "#subgenre by revenue plot -alison\n",
    "\n",
    "sci_fi_df.groupby('Subgenre')['Revenue'].mean().plot(kind='barh')\n",
    "plt.show()"
   ]
  },
  {
   "cell_type": "markdown",
   "metadata": {},
   "source": [
    "Relationship and Correlation"
   ]
  },
  {
   "cell_type": "code",
   "execution_count": 15,
   "metadata": {
    "scrolled": false
   },
   "outputs": [
    {
     "data": {
      "image/png": "[encoded data removed]",
      "text/plain": [
       "<matplotlib.figure.Figure at 0x11a970b38>"
      ]
     },
     "metadata": {},
     "output_type": "display_data"
    }
   ],
   "source": [
    "#What is the correlation of revenue and popularity? -Jude\n",
    "#Popularity has a higher correlation with revenue \n",
    "\n",
    "sci_fi_df.plot(kind='scatter',x='Revenue',y='Popularity')\n",
    "plt.show()"
   ]
  },
  {
   "cell_type": "code",
   "execution_count": 17,
   "metadata": {
    "scrolled": true
   },
   "outputs": [
    {
     "data": {
      "text/plain": [
       "0.58841133208579954"
      ]
     },
     "execution_count": 17,
     "metadata": {},
     "output_type": "execute_result"
    }
   ],
   "source": [
    "#Correlation between Revenue and Popularity -Jude\n",
    "\n",
    "sci_fi_df['Revenue'].corr(sci_fi_df['Popularity'])"
   ]
  },
  {
   "cell_type": "markdown",
   "metadata": {},
   "source": [
    "## Top 10 Sci Fi Movies"
   ]
  },
  {
   "cell_type": "code",
   "execution_count": 24,
   "metadata": {},
   "outputs": [
    {
     "data": {
      "text/plain": [
       "<Container object of 10 artists>"
      ]
     },
     "execution_count": 24,
     "metadata": {},
     "output_type": "execute_result"
    },
    {
     "data": {
      "image/png": "[encoded data removed]",
      "text/plain": [
       "<matplotlib.figure.Figure at 0x11b928710>"
      ]
     },
     "metadata": {},
     "output_type": "display_data"
    }
   ],
   "source": [
    "#top 10 sci fi movies -Alison\n",
    "\n",
    "top_10=sci_fi_df.drop_duplicates(subset='Title',inplace=False).sort_values(by='Revenue',ascending=False)['Title'].head(10)\n",
    "\n",
    "top_10_revenue=sci_fi_df.drop_duplicates(subset='Title',inplace=False).sort_values(by='Revenue',ascending=False)['Revenue'].head(10)\n",
    "\n",
    "plt.rcParams.update({'font.size': 15})\n",
    "plt.figure(figsize=(20,10))\n",
    "\n",
    "plt.bar(range(len(top_10)),top_10_revenue)\n",
    "#xticks('sample', 'movie')\n"
   ]
  },
  {
   "cell_type": "code",
   "execution_count": null,
   "metadata": {
    "collapsed": true
   },
   "outputs": [],
   "source": [
    "#What is the distribution like? <-Jude "
   ]
  },
  {
   "cell_type": "code",
   "execution_count": null,
   "metadata": {
    "collapsed": true
   },
   "outputs": [],
   "source": [
    "#Are there any outliers? <-Jude \n"
   ]
  },
  {
   "cell_type": "code",
   "execution_count": null,
   "metadata": {
    "collapsed": true
   },
   "outputs": [],
   "source": []
  },
  {
   "cell_type": "markdown",
   "metadata": {},
   "source": [
    "## Final Thoughts & Summary:"
   ]
  },
  {
   "cell_type": "code",
   "execution_count": null,
   "metadata": {
    "collapsed": true
   },
   "outputs": [],
   "source": [
    "#Overall suggestion and final thoughts to Microsoft?\n"
   ]
  },
  {
   "cell_type": "code",
   "execution_count": null,
   "metadata": {
    "collapsed": true
   },
   "outputs": [],
   "source": []
  },
  {
   "cell_type": "code",
   "execution_count": null,
   "metadata": {
    "collapsed": true
   },
   "outputs": [],
   "source": [
    "\n"
   ]
  },
  {
   "cell_type": "code",
   "execution_count": null,
   "metadata": {
    "collapsed": true
   },
   "outputs": [],
   "source": []
  }
 ],
 "metadata": {
  "anaconda-cloud": {},
  "kernelspec": {
   "display_name": "Python 3",
   "language": "python",
   "name": "python3"
  },
  "language_info": {
   "codemirror_mode": {
    "name": "ipython",
    "version": 3
   },
   "file_extension": ".py",
   "mimetype": "text/x-python",
   "name": "python",
   "nbconvert_exporter": "python",
   "pygments_lexer": "ipython3",
   "version": "3.7.4"
  }
 },
 "nbformat": 4,
 "nbformat_minor": 1
}
