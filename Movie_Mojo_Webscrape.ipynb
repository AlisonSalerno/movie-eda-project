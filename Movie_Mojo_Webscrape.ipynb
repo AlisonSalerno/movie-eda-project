{
 "cells": [
  {
   "cell_type": "code",
   "execution_count": 5,
   "metadata": {
    "collapsed": true
   },
   "outputs": [],
   "source": [
    "#import packages needed\n",
    "\n",
    "import pandas as pd\n",
    "import matplotlib.pyplot as plt\n",
    "from matplotlib import style\n",
    "style.use('fivethirtyeight')\n",
    "import numpy as np\n",
    "import json\n",
    "import requests\n",
    "from bs4 import BeautifulSoup\n",
    "from re import sub\n",
    "from decimal import Decimal\n",
    "%matplotlib inline"
   ]
  },
  {
   "cell_type": "markdown",
   "metadata": {},
   "source": [
    "## Box Office Mojo Sci-Fi subgenre URLs:\n",
    "\n",
    "Affliction\thttps://www.boxofficemojo.com/genre/sg1826615553/?ref_=bo_gs_table_14 \n",
    "\n",
    "Space Opera\thttps://www.boxofficemojo.com/genre/sg2027942145/?ref_=bo_gs_table_31\n",
    "\n",
    "Person vs. Machine\thttps://www.boxofficemojo.com/genre/sg3235901697/?ref_=bo_gs_table_93\n",
    "\n",
    "Post-Apocalypse\thttps://www.boxofficemojo.com/genre/sg434041089/?ref_=bo_gs_table_36\n",
    "\n",
    "Supernatural\thttps://www.boxofficemojo.com/genre/sg3185570049/?ref_=bo_gs_table_4\n",
    "\n",
    "Alien Invasion\thttps://www.boxofficemojo.com/genre/sg4292866305/?ref_=bo_gs_table_9\n",
    "\n",
    "Time Travel\thttps://www.boxofficemojo.com/genre/sg501149953/?ref_=bo_gs_table_11\n",
    "\n",
    "Superhero\thttps://www.boxofficemojo.com/genre/sg2900226305/?ref_=bo_gs_table_12\n",
    "\n",
    "Robot\thttps://www.boxofficemojo.com/genre/sg3722375425/?ref_=bo_gs_table_32\n",
    "\n",
    "Future\thttps://www.boxofficemojo.com/genre/sg2799628545/?ref_=bo_gs_table_33\n",
    "\n",
    "\n",
    "** US & CANADA only"
   ]
  },
  {
   "cell_type": "markdown",
   "metadata": {},
   "source": [
    "## WEBSCRAPING DATA SET:"
   ]
  },
  {
   "cell_type": "code",
   "execution_count": 6,
   "metadata": {
    "collapsed": true
   },
   "outputs": [],
   "source": [
    "#The 10 subgenres for sci-fi\n",
    "\n",
    "Affliction_url = 'https://www.boxofficemojo.com/genre/sg1826615553/?ref_=bo_gs_table_14'\n",
    "\n",
    "Space_Opera_url = 'https://www.boxofficemojo.com/genre/sg2027942145/?ref_=bo_gs_table_31'\n",
    "\n",
    "Person_vs_Machine_url = 'https://www.boxofficemojo.com/genre/sg3235901697/?ref_=bo_gs_table_93'\n",
    "\n",
    "Post_Apocalypse_url = 'https://www.boxofficemojo.com/genre/sg434041089/?ref_=bo_gs_table_36'\n",
    "\n",
    "Supernatural_url = 'https://www.boxofficemojo.com/genre/sg3185570049/?ref_=bo_gs_table_4'\n",
    "\n",
    "Alien_Invasion_url = 'https://www.boxofficemojo.com/genre/sg4292866305/?ref_=bo_gs_table_9'\n",
    "\n",
    "Time_Travel_url = 'https://www.boxofficemojo.com/genre/sg501149953/?ref_=bo_gs_table_11'\n",
    "\n",
    "Superhero_url = 'https://www.boxofficemojo.com/genre/sg2900226305/?ref_=bo_gs_table_12'\n",
    "\n",
    "Robot_url = 'https://www.boxofficemojo.com/genre/sg3722375425/?ref_=bo_gs_table_32'\n",
    "\n",
    "Future_url = 'https://www.boxofficemojo.com/genre/sg2799628545/?ref_=bo_gs_table_33'"
   ]
  },
  {
   "cell_type": "code",
   "execution_count": 7,
   "metadata": {
    "collapsed": true
   },
   "outputs": [],
   "source": [
    "subgenres_url = [Affliction_url, Space_Opera_url, Person_vs_Machine_url, Post_Apocalypse_url, \n",
    "             Supernatural_url, Alien_Invasion_url, Time_Travel_url, Superhero_url, Robot_url, Future_url]\n",
    "\n",
    "subgenres = ['Affliction', 'Space_Opera', 'Person_vs_Machine', 'Post_Apocalypse', \n",
    "             'Supernatural', 'Alien_Invasion', 'Time_Travel', 'Superhero', 'Robot', 'Future']"
   ]
  },
  {
   "cell_type": "code",
   "execution_count": 8,
   "metadata": {
    "collapsed": true
   },
   "outputs": [],
   "source": [
    "#BeautifulSouping the url's for each subgenre from Movie Mojo\n",
    "\n",
    "def soupitup(url, genre_string):\n",
    "    page = requests.get(url)\n",
    "    soup = BeautifulSoup(page.content, 'html.parser')\n",
    "    \n",
    "    titles = soup.find_all('td', class_='a-text-left mojo-field-type-title')\n",
    "    lifetime_gross = soup.find_all('td', class_='a-text-right mojo-field-type-money mojo-sort-column mojo-estimatable')\n",
    "    date_release = soup.find_all('td', class_='a-text-left mojo-field-type-date a-nowrap')\n",
    "    \n",
    "    Genre_List =[]\n",
    "    cur=0\n",
    "    while cur < len(titles):\n",
    "        Genre_Dict = {}\n",
    "        \n",
    "        Genre_Dict['Date_Released'] = date_release[cur].get_text()\n",
    "        Genre_Dict['Lifetime_Gross'] = lifetime_gross[cur].get_text()\n",
    "        Genre_Dict['Title'] = titles[cur].get_text()\n",
    "        \n",
    "        Genre_List.append(Genre_Dict)\n",
    "        cur+=1\n",
    "    \n",
    "    genre = pd.DataFrame(Genre_List)\n",
    "    genre['Subgenre'] = genre_string\n",
    "    return genre"
   ]
  },
  {
   "cell_type": "code",
   "execution_count": 9,
   "metadata": {
    "collapsed": true
   },
   "outputs": [],
   "source": [
    "#Creating a list of datasets for each subgenre\n",
    "\n",
    "sg_data_list = []\n",
    "g=0\n",
    "while g < 10:\n",
    "    finished_product = soupitup(subgenres_url[g], subgenres[g])\n",
    "    sg_data_list.append(finished_product)\n",
    "    g+=1"
   ]
  },
  {
   "cell_type": "code",
   "execution_count": 10,
   "metadata": {
    "collapsed": true
   },
   "outputs": [],
   "source": [
    "#Concatenate the entire list into one mega list\n",
    "\n",
    "mega_list = pd.concat(sg_data_list) \n",
    "mega_list.reset_index(inplace=True)\n",
    "mega_list.drop('index', axis=1, inplace=True)"
   ]
  },
  {
   "cell_type": "code",
   "execution_count": 11,
   "metadata": {
    "collapsed": true
   },
   "outputs": [],
   "source": [
    "#Converting the Lifetime_Gross column into type decimal and then convert it again to int\n",
    "\n",
    "mega_list['Lifetime_Gross'] = mega_list['Lifetime_Gross'].apply(lambda x: Decimal(sub(r'[^\\d.]', '', x)))\n",
    "mega_list['Lifetime_Gross'] = mega_list['Lifetime_Gross'].apply(lambda x: int(x))"
   ]
  },
  {
   "cell_type": "code",
   "execution_count": 12,
   "metadata": {
    "collapsed": false,
    "scrolled": true
   },
   "outputs": [
    {
     "data": {
      "text/html": [
       "<div>\n",
       "<table border=\"1\" class=\"dataframe\">\n",
       "  <thead>\n",
       "    <tr style=\"text-align: right;\">\n",
       "      <th></th>\n",
       "      <th>Date_Released</th>\n",
       "      <th>Lifetime_Gross</th>\n",
       "      <th>Title</th>\n",
       "      <th>Subgenre</th>\n",
       "    </tr>\n",
       "  </thead>\n",
       "  <tbody>\n",
       "    <tr>\n",
       "      <th>0</th>\n",
       "      <td>Dec 18, 2009</td>\n",
       "      <td>749766139</td>\n",
       "      <td>Avatar</td>\n",
       "      <td>Affliction</td>\n",
       "    </tr>\n",
       "    <tr>\n",
       "      <th>1</th>\n",
       "      <td>Aug 3, 2007</td>\n",
       "      <td>227471070</td>\n",
       "      <td>The Bourne Ultimatum</td>\n",
       "      <td>Affliction</td>\n",
       "    </tr>\n",
       "    <tr>\n",
       "      <th>2</th>\n",
       "      <td>Jul 23, 2004</td>\n",
       "      <td>176241941</td>\n",
       "      <td>The Bourne Supremacy</td>\n",
       "      <td>Affliction</td>\n",
       "    </tr>\n",
       "    <tr>\n",
       "      <th>3</th>\n",
       "      <td>Feb 10, 2012</td>\n",
       "      <td>125014030</td>\n",
       "      <td>The Vow</td>\n",
       "      <td>Affliction</td>\n",
       "    </tr>\n",
       "    <tr>\n",
       "      <th>4</th>\n",
       "      <td>Jun 14, 2002</td>\n",
       "      <td>121661683</td>\n",
       "      <td>The Bourne Identity</td>\n",
       "      <td>Affliction</td>\n",
       "    </tr>\n",
       "  </tbody>\n",
       "</table>\n",
       "</div>"
      ],
      "text/plain": [
       "  Date_Released  Lifetime_Gross                 Title    Subgenre\n",
       "0  Dec 18, 2009       749766139                Avatar  Affliction\n",
       "1   Aug 3, 2007       227471070  The Bourne Ultimatum  Affliction\n",
       "2  Jul 23, 2004       176241941  The Bourne Supremacy  Affliction\n",
       "3  Feb 10, 2012       125014030               The Vow  Affliction\n",
       "4  Jun 14, 2002       121661683   The Bourne Identity  Affliction"
      ]
     },
     "execution_count": 12,
     "metadata": {},
     "output_type": "execute_result"
    }
   ],
   "source": [
    "mega_list.head()"
   ]
  },
  {
   "cell_type": "code",
   "execution_count": 20,
   "metadata": {
    "collapsed": false
   },
   "outputs": [
    {
     "data": {
      "image/png": "[encoded data removed]",
      "text/plain": [
       "<matplotlib.figure.Figure at 0x11a8089b0>"
      ]
     },
     "metadata": {},
     "output_type": "display_data"
    }
   ],
   "source": [
    "mega_list.groupby('Subgenre')['Lifetime_Gross'].mean().plot(kind='barh', figsize=(6,4))\n",
    "plt.title('Gross Average by Subgenre')\n",
    "plt.xlabel('$$$ in 100 million')\n",
    "plt.show()"
   ]
  },
  {
   "cell_type": "code",
   "execution_count": null,
   "metadata": {
    "collapsed": true
   },
   "outputs": [],
   "source": [
    "#Save mege_list into a csv for analysis later. \n",
    "\n",
    "#mega_list.to_csv('movie_subgenres.csv')"
   ]
  }
 ],
 "metadata": {
  "anaconda-cloud": {},
  "kernelspec": {
   "display_name": "Python [Root]",
   "language": "python",
   "name": "Python [Root]"
  },
  "language_info": {
   "codemirror_mode": {
    "name": "ipython",
    "version": 3
   },
   "file_extension": ".py",
   "mimetype": "text/x-python",
   "name": "python",
   "nbconvert_exporter": "python",
   "pygments_lexer": "ipython3",
   "version": "3.5.1"
  }
 },
 "nbformat": 4,
 "nbformat_minor": 0
}
