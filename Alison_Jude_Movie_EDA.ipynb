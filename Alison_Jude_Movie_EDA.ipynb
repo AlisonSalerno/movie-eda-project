{
 "cells": [
  {
   "cell_type": "markdown",
   "metadata": {},
   "source": [
    "## The Scifi Project - A&J Analytica\n",
    "\n",
    "Microsoft sees all the big companies creating original video content, and they want to get in on the fun. They have decided to create a new movie studio, but the problem is they don’t know anything about creating movies. They also want to capture a niche and create only sci-fi movies. They have hired A&J Analytica to help them better understand the scifi genre. Your team is charged with doing data analysis and creating a presentation that explores what type of sci-fi films are currently doing the best at the box office. You must then translate those findings into actionable insights that the CEO can use when deciding what type of films they should be creating."
   ]
  },
  {
   "cell_type": "markdown",
   "metadata": {},
   "source": [
    "## DATASETS:"
   ]
  },
  {
   "cell_type": "markdown",
   "metadata": {
    "collapsed": true
   },
   "source": [
    "## Box Office Mojo Sci-Fi subgenre URLs:\n",
    "\n",
    "Affliction\thttps://www.boxofficemojo.com/genre/sg1826615553/?ref_=bo_gs_table_14 \n",
    "\n",
    "Space Opera\thttps://www.boxofficemojo.com/genre/sg2027942145/?ref_=bo_gs_table_31\n",
    "\n",
    "Person vs. Machine\thttps://www.boxofficemojo.com/genre/sg3235901697/?ref_=bo_gs_table_93\n",
    "\n",
    "Post-Apocalypse\thttps://www.boxofficemojo.com/genre/sg434041089/?ref_=bo_gs_table_36\n",
    "\n",
    "Supernatural\thttps://www.boxofficemojo.com/genre/sg3185570049/?ref_=bo_gs_table_4\n",
    "\n",
    "Alien Invasion\thttps://www.boxofficemojo.com/genre/sg4292866305/?ref_=bo_gs_table_9\n",
    "\n",
    "Time Travel\thttps://www.boxofficemojo.com/genre/sg501149953/?ref_=bo_gs_table_11\n",
    "\n",
    "Superhero\thttps://www.boxofficemojo.com/genre/sg2900226305/?ref_=bo_gs_table_12\n",
    "\n",
    "Robot\thttps://www.boxofficemojo.com/genre/sg3722375425/?ref_=bo_gs_table_32\n",
    "\n",
    "Future\thttps://www.boxofficemojo.com/genre/sg2799628545/"
   ]
  },
  {
   "cell_type": "markdown",
   "metadata": {},
   "source": [
    "## API: \n",
    "\n",
    "https://developers.themoviedb.org/3/getting-started/introduction"
   ]
  },
  {
   "cell_type": "markdown",
   "metadata": {},
   "source": [
    "## Checklist:\n",
    "\n",
    "- Organization/Code Cleanliness\n",
    "- Visualizations & EDA\n",
    "- Questions:\n",
    "\n",
    "    -What scifi film has the highest generated revenue? \n",
    "    \n",
    "    -What scifi film has the lowest generated revnue?\n",
    "    \n",
    "    -What percentage of sci-fi films have a rating of 4/90% or higher?\n",
    "    \n",
    "    -Subgenre breakout of the top 10 most popular sci-fi films? (popularity determined by rating or by revenue generated)\n",
    "    \n",
    "    -What is the average total revenue of all the films? Grouped by subgenres? Grouped by decade?\n",
    "    \n",
    "    -What is the correlation of revenue and rating?\n",
    "    \n",
    "    -Overall suggestion and final thoughts to Microsoft? "
   ]
  },
  {
   "cell_type": "code",
   "execution_count": null,
   "metadata": {
    "collapsed": true
   },
   "outputs": [],
   "source": []
  },
  {
   "cell_type": "markdown",
   "metadata": {},
   "source": [
    "## API DATA SET:"
   ]
  },
  {
   "cell_type": "code",
   "execution_count": 4,
   "metadata": {
    "collapsed": true
   },
   "outputs": [],
   "source": [
    "#code"
   ]
  },
  {
   "cell_type": "code",
   "execution_count": null,
   "metadata": {
    "collapsed": true
   },
   "outputs": [],
   "source": [
    "#code"
   ]
  },
  {
   "cell_type": "code",
   "execution_count": null,
   "metadata": {
    "collapsed": true
   },
   "outputs": [],
   "source": [
    "#code"
   ]
  },
  {
   "cell_type": "code",
   "execution_count": null,
   "metadata": {
    "collapsed": true
   },
   "outputs": [],
   "source": [
    "#code"
   ]
  },
  {
   "cell_type": "code",
   "execution_count": null,
   "metadata": {
    "collapsed": true
   },
   "outputs": [],
   "source": [
    "#visualization"
   ]
  },
  {
   "cell_type": "markdown",
   "metadata": {},
   "source": [
    "## WEBSCRAPING DATA SET:"
   ]
  },
  {
   "cell_type": "code",
   "execution_count": null,
   "metadata": {
    "collapsed": true
   },
   "outputs": [],
   "source": [
    "#code"
   ]
  },
  {
   "cell_type": "code",
   "execution_count": null,
   "metadata": {
    "collapsed": true
   },
   "outputs": [],
   "source": [
    "#code"
   ]
  },
  {
   "cell_type": "code",
   "execution_count": null,
   "metadata": {
    "collapsed": true
   },
   "outputs": [],
   "source": [
    "#code"
   ]
  },
  {
   "cell_type": "code",
   "execution_count": null,
   "metadata": {
    "collapsed": true
   },
   "outputs": [],
   "source": [
    "#code"
   ]
  },
  {
   "cell_type": "code",
   "execution_count": null,
   "metadata": {
    "collapsed": true
   },
   "outputs": [],
   "source": [
    "#visualization"
   ]
  },
  {
   "cell_type": "markdown",
   "metadata": {},
   "source": [
    "## Merged Datasets:"
   ]
  },
  {
   "cell_type": "code",
   "execution_count": null,
   "metadata": {
    "collapsed": true
   },
   "outputs": [],
   "source": [
    "#more viz"
   ]
  },
  {
   "cell_type": "code",
   "execution_count": null,
   "metadata": {
    "collapsed": true
   },
   "outputs": [],
   "source": [
    "#more code"
   ]
  },
  {
   "cell_type": "code",
   "execution_count": null,
   "metadata": {
    "collapsed": true
   },
   "outputs": [],
   "source": [
    "#blahblahblah"
   ]
  },
  {
   "cell_type": "code",
   "execution_count": null,
   "metadata": {
    "collapsed": true
   },
   "outputs": [],
   "source": []
  },
  {
   "cell_type": "code",
   "execution_count": null,
   "metadata": {
    "collapsed": true
   },
   "outputs": [],
   "source": []
  },
  {
   "cell_type": "code",
   "execution_count": null,
   "metadata": {
    "collapsed": true
   },
   "outputs": [],
   "source": []
  },
  {
   "cell_type": "markdown",
   "metadata": {},
   "source": [
    "## Final Thoughts & Summary:"
   ]
  },
  {
   "cell_type": "code",
   "execution_count": null,
   "metadata": {
    "collapsed": true
   },
   "outputs": [],
   "source": []
  },
  {
   "cell_type": "code",
   "execution_count": null,
   "metadata": {
    "collapsed": true
   },
   "outputs": [],
   "source": []
  },
  {
   "cell_type": "code",
   "execution_count": null,
   "metadata": {
    "collapsed": true
   },
   "outputs": [],
   "source": [
    "\n"
   ]
  },
  {
   "cell_type": "code",
   "execution_count": null,
   "metadata": {
    "collapsed": true
   },
   "outputs": [],
   "source": []
  }
 ],
 "metadata": {
  "anaconda-cloud": {},
  "kernelspec": {
   "display_name": "Python [Root]",
   "language": "python",
   "name": "Python [Root]"
  },
  "language_info": {
   "codemirror_mode": {
    "name": "ipython",
    "version": 3
   },
   "file_extension": ".py",
   "mimetype": "text/x-python",
   "name": "python",
   "nbconvert_exporter": "python",
   "pygments_lexer": "ipython3",
   "version": "3.5.1"
  }
 },
 "nbformat": 4,
 "nbformat_minor": 0
}
