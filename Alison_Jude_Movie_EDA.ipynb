{
 "cells": [
  {
   "cell_type": "markdown",
   "metadata": {},
   "source": [
    "## The Microsoft Scifi Project - A&J Analytica\n",
    "\n",
    "Microsoft sees all the big companies creating original video content, and they want to get in on the fun. They have decided to create a new movie studio, but the problem is they don’t know anything about creating movies. They also want to capture a niche and create only sci-fi movies. They have hired A&J Analytica to help them better understand the scifi genre. Your team is charged with doing data analysis and creating a presentation that explores what type of sci-fi films are currently doing the best at the box office. You must then translate those findings into actionable insights that the CEO can use when deciding what type of films they should be creating."
   ]
  },
  {
   "cell_type": "markdown",
   "metadata": {},
   "source": [
    "## DATASETS:"
   ]
  },
  {
   "cell_type": "markdown",
   "metadata": {
    "collapsed": true
   },
   "source": [
    "## Box Office Mojo Sci-Fi subgenre URLs:\n",
    "\n",
    "Affliction\thttps://www.boxofficemojo.com/genre/sg1826615553/?ref_=bo_gs_table_14 \n",
    "\n",
    "Space Opera\thttps://www.boxofficemojo.com/genre/sg2027942145/?ref_=bo_gs_table_31\n",
    "\n",
    "Person vs. Machine\thttps://www.boxofficemojo.com/genre/sg3235901697/?ref_=bo_gs_table_93\n",
    "\n",
    "Post-Apocalypse\thttps://www.boxofficemojo.com/genre/sg434041089/?ref_=bo_gs_table_36\n",
    "\n",
    "Supernatural\thttps://www.boxofficemojo.com/genre/sg3185570049/?ref_=bo_gs_table_4\n",
    "\n",
    "Alien Invasion\thttps://www.boxofficemojo.com/genre/sg4292866305/?ref_=bo_gs_table_9\n",
    "\n",
    "Time Travel\thttps://www.boxofficemojo.com/genre/sg501149953/?ref_=bo_gs_table_11\n",
    "\n",
    "Superhero\thttps://www.boxofficemojo.com/genre/sg2900226305/?ref_=bo_gs_table_12\n",
    "\n",
    "Robot\thttps://www.boxofficemojo.com/genre/sg3722375425/?ref_=bo_gs_table_32\n",
    "\n",
    "Future\thttps://www.boxofficemojo.com/genre/sg2799628545/?ref_=bo_gs_table_33"
   ]
  },
  {
   "cell_type": "markdown",
   "metadata": {},
   "source": [
    "## API: \n",
    "\n",
    "https://developers.themoviedb.org/3/getting-started/introduction"
   ]
  },
  {
   "cell_type": "markdown",
   "metadata": {},
   "source": [
    "## Checklist:\n",
    "\n",
    "- Organization/Code Cleanliness\n",
    "\n",
    "     Your notebook should contain 1 - 2 paragraphs briefly explaining your approach to this project.\n",
    "     \n",
    "     \n",
    "- Visualizations & EDA\n",
    "\n",
    "    Your project contains at least 4 meaningful data visualizations, with corresponding interpretations. All visualizations are well labeled with axes labels, a title, and a legend (when appropriate)\n",
    "    \n",
    "    You pose at least 3 meaningful questions and answer them through EDA. These questions should be well labeled and easy to identify inside the notebook.\n",
    "    \n",
    "     Level Up: Each question is clearly answered with a visualization that makes the answer easy to understand.\n",
    "   \n",
    "\n",
    "\n",
    "- Questions:\n",
    "\n",
    "    -What scifi film has the highest generated revenue? \n",
    "    \n",
    "    -What scifi film has the lowest generated revnue?\n",
    "    \n",
    "    -What percentage of sci-fi films have a rating of 4/90% or higher?\n",
    "    \n",
    "    -Subgenre breakout of the top 10 most popular sci-fi films? (popularity determined by rating or by revenue generated)\n",
    "    \n",
    "    -What is the average total revenue of all the films? Grouped by subgenres? Grouped by decade?\n",
    "    \n",
    "    -What is the correlation of revenue and rating?\n",
    "    \n",
    "    -Overall suggestion and final thoughts to Microsoft? \n",
    "    \n",
    "    -What is the distribution like?\n",
    "    \n",
    "    -Are there any outliers?\n",
    "    \n",
    "    -How do the different sub genre differ from one another in terms of success? Is there a correlation between them?\n",
    "   "
   ]
  },
  {
   "cell_type": "code",
   "execution_count": 12,
   "metadata": {
    "collapsed": true
   },
   "outputs": [],
   "source": [
    "#import packages needed\n",
    "\n",
    "import pandas as pd\n",
    "import matplotlib.pyplot as plt\n",
    "from matplotlib import style\n",
    "style.use('fivethirtyeight')\n",
    "import numpy as np\n",
    "import json\n",
    "import requests\n",
    "from bs4 import BeautifulSoup\n",
    "%matplotlib inline"
   ]
  },
  {
   "cell_type": "markdown",
   "metadata": {},
   "source": [
    "## API DATA SET:"
   ]
  },
  {
   "cell_type": "code",
   "execution_count": 4,
   "metadata": {
    "collapsed": true
   },
   "outputs": [],
   "source": [
    "#code"
   ]
  },
  {
   "cell_type": "code",
   "execution_count": null,
   "metadata": {
    "collapsed": true
   },
   "outputs": [],
   "source": [
    "#code"
   ]
  },
  {
   "cell_type": "code",
   "execution_count": null,
   "metadata": {
    "collapsed": true
   },
   "outputs": [],
   "source": [
    "#code"
   ]
  },
  {
   "cell_type": "code",
   "execution_count": null,
   "metadata": {
    "collapsed": true
   },
   "outputs": [],
   "source": [
    "#code"
   ]
  },
  {
   "cell_type": "code",
   "execution_count": null,
   "metadata": {
    "collapsed": true
   },
   "outputs": [],
   "source": [
    "#visualization"
   ]
  },
  {
   "cell_type": "markdown",
   "metadata": {},
   "source": [
    "## WEBSCRAPING DATA SET:"
   ]
  },
  {
   "cell_type": "code",
   "execution_count": 103,
   "metadata": {
    "collapsed": false
   },
   "outputs": [
    {
     "data": {
      "text/plain": [
       "<Response [200]>"
      ]
     },
     "execution_count": 103,
     "metadata": {},
     "output_type": "execute_result"
    }
   ],
   "source": [
    "#code\n",
    "page = requests.get(\"https://www.boxofficemojo.com/genre/sg3722375425/?ref_=bo_gs_table_32\")\n",
    "page\n"
   ]
  },
  {
   "cell_type": "code",
   "execution_count": 104,
   "metadata": {
    "collapsed": false
   },
   "outputs": [],
   "source": [
    "#page.content"
   ]
  },
  {
   "cell_type": "code",
   "execution_count": 106,
   "metadata": {
    "collapsed": false
   },
   "outputs": [],
   "source": [
    "soup = BeautifulSoup(page.content, 'html.parser')\n",
    "#soup"
   ]
  },
  {
   "cell_type": "code",
   "execution_count": 16,
   "metadata": {
    "collapsed": false
   },
   "outputs": [],
   "source": [
    "#print(soup.prettify())"
   ]
  },
  {
   "cell_type": "code",
   "execution_count": 18,
   "metadata": {
    "collapsed": false
   },
   "outputs": [],
   "source": [
    "#list(soup.children)\n"
   ]
  },
  {
   "cell_type": "code",
   "execution_count": 21,
   "metadata": {
    "collapsed": false
   },
   "outputs": [
    {
     "data": {
      "text/plain": [
       "2"
      ]
     },
     "execution_count": 21,
     "metadata": {},
     "output_type": "execute_result"
    }
   ],
   "source": [
    "len(list(soup.children))"
   ]
  },
  {
   "cell_type": "code",
   "execution_count": 22,
   "metadata": {
    "collapsed": false
   },
   "outputs": [
    {
     "data": {
      "text/plain": [
       "[bs4.element.Doctype, bs4.element.Tag]"
      ]
     },
     "execution_count": 22,
     "metadata": {},
     "output_type": "execute_result"
    }
   ],
   "source": [
    "[type(item) for item in list(soup.children)]\n"
   ]
  },
  {
   "cell_type": "code",
   "execution_count": 107,
   "metadata": {
    "collapsed": true
   },
   "outputs": [],
   "source": [
    "html = list(soup.children)[1]\n"
   ]
  },
  {
   "cell_type": "code",
   "execution_count": 25,
   "metadata": {
    "collapsed": false
   },
   "outputs": [],
   "source": [
    "#html"
   ]
  },
  {
   "cell_type": "code",
   "execution_count": 30,
   "metadata": {
    "collapsed": false
   },
   "outputs": [],
   "source": [
    "#list(html.children)"
   ]
  },
  {
   "cell_type": "code",
   "execution_count": 108,
   "metadata": {
    "collapsed": false
   },
   "outputs": [],
   "source": [
    "body = list(html.children)[1]\n"
   ]
  },
  {
   "cell_type": "code",
   "execution_count": 48,
   "metadata": {
    "collapsed": false
   },
   "outputs": [],
   "source": [
    "#print(body.prettify())"
   ]
  },
  {
   "cell_type": "code",
   "execution_count": 109,
   "metadata": {
    "collapsed": true
   },
   "outputs": [],
   "source": [
    "titles = soup.find_all('td', class_='a-text-left mojo-field-type-title')"
   ]
  },
  {
   "cell_type": "code",
   "execution_count": 110,
   "metadata": {
    "collapsed": true
   },
   "outputs": [],
   "source": [
    "lifetime_gross = soup.find_all('td', class_='a-text-right mojo-field-type-money mojo-sort-column mojo-estimatable')"
   ]
  },
  {
   "cell_type": "code",
   "execution_count": 111,
   "metadata": {
    "collapsed": true
   },
   "outputs": [],
   "source": [
    "date_release = soup.find_all('td', class_='a-text-left mojo-field-type-date a-nowrap')"
   ]
  },
  {
   "cell_type": "code",
   "execution_count": 112,
   "metadata": {
    "collapsed": false
   },
   "outputs": [
    {
     "data": {
      "text/plain": [
       "'$459,005,868'"
      ]
     },
     "execution_count": 112,
     "metadata": {},
     "output_type": "execute_result"
    }
   ],
   "source": [
    "lifetime_gross[0].get_text()"
   ]
  },
  {
   "cell_type": "code",
   "execution_count": 93,
   "metadata": {
    "collapsed": false
   },
   "outputs": [],
   "source": [
    "# for date in date_release:\n",
    "#     print(date.get_text())"
   ]
  },
  {
   "cell_type": "code",
   "execution_count": 94,
   "metadata": {
    "collapsed": false
   },
   "outputs": [],
   "source": [
    "# for title in titles:\n",
    "#     print(title.get_text())"
   ]
  },
  {
   "cell_type": "code",
   "execution_count": 95,
   "metadata": {
    "collapsed": false
   },
   "outputs": [],
   "source": [
    "# for gross in lifetime_gross:\n",
    "#     print(gross.get_text())"
   ]
  },
  {
   "cell_type": "code",
   "execution_count": 114,
   "metadata": {
    "collapsed": false
   },
   "outputs": [
    {
     "name": "stdout",
     "output_type": "stream",
     "text": [
      "63\n",
      "63\n",
      "63\n"
     ]
    }
   ],
   "source": [
    "print(len(titles))\n",
    "print(len(lifetime_gross))\n",
    "print(len(date_release))"
   ]
  },
  {
   "cell_type": "code",
   "execution_count": 113,
   "metadata": {
    "collapsed": false
   },
   "outputs": [
    {
     "name": "stdout",
     "output_type": "stream",
     "text": [
      "Title: Avengers: Age of Ultron\n",
      "Lifetime Gross:  $459,005,868\n",
      "Date Released:  May 1, 2015\n",
      "\n",
      "Title: Transformers: Revenge of the Fallen\n",
      "Lifetime Gross:  $402,111,870\n",
      "Date Released:  Jun 24, 2009\n",
      "\n",
      "Title: Transformers: Dark of the Moon\n",
      "Lifetime Gross:  $352,390,543\n",
      "Date Released:  Jun 29, 2011\n",
      "\n",
      "Title: Transformers\n",
      "Lifetime Gross:  $319,246,193\n",
      "Date Released:  Jul 3, 2007\n",
      "\n",
      "Title: Transformers: Age of Extinction\n",
      "Lifetime Gross:  $245,439,076\n",
      "Date Released:  Jun 27, 2014\n",
      "\n",
      "Title: X-Men: Days of Future Past\n",
      "Lifetime Gross:  $233,921,534\n",
      "Date Released:  May 23, 2014\n",
      "\n",
      "Title: WALL·E\n",
      "Lifetime Gross:  $223,808,164\n",
      "Date Released:  Jun 27, 2008\n",
      "\n",
      "Title: Big Hero 6\n",
      "Lifetime Gross:  $222,527,828\n",
      "Date Released:  Nov 7, 2014\n",
      "\n",
      "Title: Terminator 2: Judgment Day\n",
      "Lifetime Gross:  $204,843,345\n",
      "Date Released:  Jul 3, 1991\n",
      "\n",
      "Title: Terminator 3: Rise of the Machines\n",
      "Lifetime Gross:  $150,371,112\n",
      "Date Released:  Jul 2, 2003\n",
      "\n",
      "Title: I, Robot\n",
      "Lifetime Gross:  $144,801,023\n",
      "Date Released:  Jul 16, 2004\n",
      "\n",
      "Title: Transformers: The Last Knight\n",
      "Lifetime Gross:  $130,168,683\n",
      "Date Released:  Jun 21, 2017\n",
      "\n",
      "Title: Robots\n",
      "Lifetime Gross:  $128,200,012\n",
      "Date Released:  Mar 11, 2005\n",
      "\n",
      "Title: Bumblebee\n",
      "Lifetime Gross:  $127,195,589\n",
      "Date Released:  Dec 21, 2018\n",
      "\n",
      "Title: Prometheus\n",
      "Lifetime Gross:  $126,477,084\n",
      "Date Released:  Jun 8, 2012\n",
      "\n",
      "Title: Terminator Salvation\n",
      "Lifetime Gross:  $125,322,469\n",
      "Date Released:  May 21, 2009\n",
      "\n",
      "Title: Pacific Rim\n",
      "Lifetime Gross:  $101,802,906\n",
      "Date Released:  Jul 12, 2013\n",
      "\n",
      "Title: Inspector Gadget\n",
      "Lifetime Gross:  $97,403,112\n",
      "Date Released:  Jul 23, 1999\n",
      "\n",
      "Title: Blade Runner 2049\n",
      "Lifetime Gross:  $92,054,159\n",
      "Date Released:  Oct 6, 2017\n",
      "\n",
      "Title: Star Trek: First Contact\n",
      "Lifetime Gross:  $92,027,888\n",
      "Date Released:  Nov 22, 1996\n",
      "\n",
      "Title: Terminator Genisys\n",
      "Lifetime Gross:  $89,760,956\n",
      "Date Released:  Jul 1, 2015\n",
      "\n",
      "Title: Alita: Battle Angel\n",
      "Lifetime Gross:  $85,710,210\n",
      "Date Released:  Feb 14, 2019\n",
      "\n",
      "Title: Real Steel\n",
      "Lifetime Gross:  $85,468,508\n",
      "Date Released:  Oct 7, 2011\n",
      "\n",
      "Title: A.I. Artificial Intelligence\n",
      "Lifetime Gross:  $78,616,689\n",
      "Date Released:  Jun 29, 2001\n",
      "\n",
      "Title: Terminator: Dark Fate\n",
      "Lifetime Gross:  $62,253,077\n",
      "Date Released:  Nov 1, 2019\n",
      "\n",
      "Title: Pacific Rim: Uprising\n",
      "Lifetime Gross:  $59,874,525\n",
      "Date Released:  Mar 23, 2018\n",
      "\n",
      "Title: The Stepford Wives\n",
      "Lifetime Gross:  $59,484,742\n",
      "Date Released:  Jun 11, 2004\n",
      "\n",
      "Title: RoboCop\n",
      "Lifetime Gross:  $58,607,007\n",
      "Date Released:  Feb 12, 2014\n",
      "\n",
      "Title: Bicentennial Man\n",
      "Lifetime Gross:  $58,223,861\n",
      "Date Released:  Dec 17, 1999\n",
      "\n",
      "Title: RoboCop\n",
      "Lifetime Gross:  $53,424,681\n",
      "Date Released:  Jul 17, 1987\n",
      "\n",
      "Title: RoboCop 2\n",
      "Lifetime Gross:  $45,681,173\n",
      "Date Released:  Jun 22, 1990\n",
      "\n",
      "Title: Short Circuit\n",
      "Lifetime Gross:  $40,697,761\n",
      "Date Released:  May 9, 1986\n",
      "\n",
      "Title: Ghost in the Shell\n",
      "Lifetime Gross:  $40,563,557\n",
      "Date Released:  Mar 31, 2017\n",
      "\n",
      "Title: Surrogates\n",
      "Lifetime Gross:  $38,577,772\n",
      "Date Released:  Sep 25, 2009\n",
      "\n",
      "Title: The Terminator\n",
      "Lifetime Gross:  $38,371,200\n",
      "Date Released:  Oct 26, 1984\n",
      "\n",
      "Title: Sky Captain and the World of Tomorrow\n",
      "Lifetime Gross:  $37,762,677\n",
      "Date Released:  Sep 17, 2004\n",
      "\n",
      "Title: Universal Soldier\n",
      "Lifetime Gross:  $36,299,898\n",
      "Date Released:  Jul 10, 1992\n",
      "\n",
      "Title: Chappie\n",
      "Lifetime Gross:  $31,569,268\n",
      "Date Released:  Mar 6, 2015\n",
      "\n",
      "Title: Blade Runner\n",
      "Lifetime Gross:  $27,580,111\n",
      "Date Released:  Jun 25, 1982\n",
      "\n",
      "Title: Ex Machina\n",
      "Lifetime Gross:  $25,442,958\n",
      "Date Released:  Apr 10, 2015\n",
      "\n",
      "Title: The Iron Giant\n",
      "Lifetime Gross:  $23,159,305\n",
      "Date Released:  Aug 3, 1999\n",
      "\n",
      "Title: Short Circuit 2\n",
      "Lifetime Gross:  $21,630,088\n",
      "Date Released:  Jul 8, 1988\n",
      "\n",
      "Title: Upgrade\n",
      "Lifetime Gross:  $11,977,130\n",
      "Date Released:  Jun 1, 2018\n",
      "\n",
      "Title: RoboCop 3\n",
      "Lifetime Gross:  $10,696,210\n",
      "Date Released:  Nov 5, 1993\n",
      "\n",
      "Title: Universal Soldier: The Return\n",
      "Lifetime Gross:  $10,667,893\n",
      "Date Released:  Aug 20, 1999\n",
      "\n",
      "Title: Cyborg\n",
      "Lifetime Gross:  $10,166,459\n",
      "Date Released:  Apr 7, 1989\n",
      "\n",
      "Title: Deadly Friend\n",
      "Lifetime Gross:  $8,988,731\n",
      "Date Released:  Oct 10, 1986\n",
      "\n",
      "Title: D.A.R.Y.L.\n",
      "Lifetime Gross:  $7,840,873\n",
      "Date Released:  Jun 14, 1985\n",
      "\n",
      "Title: A-X-L\n",
      "Lifetime Gross:  $6,501,381\n",
      "Date Released:  Aug 24, 2018\n",
      "\n",
      "Title: The Transformers: The Movie\n",
      "Lifetime Gross:  $5,849,647\n",
      "Date Released:  Aug 8, 1986\n",
      "\n",
      "Title: Hardware\n",
      "Lifetime Gross:  $5,728,953\n",
      "Date Released:  Sep 14, 1990\n",
      "\n",
      "Title: Eve of Destruction\n",
      "Lifetime Gross:  $5,451,119\n",
      "Date Released:  Jan 18, 1991\n",
      "\n",
      "Title: Solo\n",
      "Lifetime Gross:  $5,107,669\n",
      "Date Released:  Aug 23, 1996\n",
      "\n",
      "Title: Eliminators\n",
      "Lifetime Gross:  $4,601,256\n",
      "Date Released:  Jan 31, 1986\n",
      "\n",
      "Title: Robot & Frank\n",
      "Lifetime Gross:  $3,325,038\n",
      "Date Released:  Aug 17, 2012\n",
      "\n",
      "Title: Class of 1999\n",
      "Lifetime Gross:  $2,459,895\n",
      "Date Released:  May 11, 1990\n",
      "\n"
     ]
    }
   ],
   "source": [
    "cur = 0\n",
    "\n",
    "while cur < 63:\n",
    "    print('Title:', titles[cur].get_text())\n",
    "    print('Lifetime Gross: ', lifetime_gross[cur].get_text())\n",
    "    print('Date Released: ', date_release[cur].get_text())\n",
    "    print()\n",
    "    cur+=1"
   ]
  },
  {
   "cell_type": "code",
   "execution_count": 101,
   "metadata": {
    "collapsed": false
   },
   "outputs": [],
   "source": [
    "# for date in date_release:\n",
    "#     print(date.get_text())\n",
    "\n",
    "# for title in titles:\n",
    "#     print(title.get_text())\n",
    "\n",
    "# for gross in lifetime_gross:\n",
    "#     print(gross.get_text())"
   ]
  },
  {
   "cell_type": "code",
   "execution_count": null,
   "metadata": {
    "collapsed": true
   },
   "outputs": [],
   "source": []
  },
  {
   "cell_type": "code",
   "execution_count": null,
   "metadata": {
    "collapsed": true
   },
   "outputs": [],
   "source": []
  },
  {
   "cell_type": "code",
   "execution_count": null,
   "metadata": {
    "collapsed": true
   },
   "outputs": [],
   "source": []
  },
  {
   "cell_type": "code",
   "execution_count": null,
   "metadata": {
    "collapsed": true
   },
   "outputs": [],
   "source": []
  },
  {
   "cell_type": "code",
   "execution_count": null,
   "metadata": {
    "collapsed": true
   },
   "outputs": [],
   "source": []
  },
  {
   "cell_type": "code",
   "execution_count": null,
   "metadata": {
    "collapsed": true
   },
   "outputs": [],
   "source": []
  },
  {
   "cell_type": "markdown",
   "metadata": {},
   "source": [
    "## Merged Datasets:"
   ]
  },
  {
   "cell_type": "code",
   "execution_count": null,
   "metadata": {
    "collapsed": true
   },
   "outputs": [],
   "source": [
    "#more viz"
   ]
  },
  {
   "cell_type": "code",
   "execution_count": null,
   "metadata": {
    "collapsed": true
   },
   "outputs": [],
   "source": [
    "#more code"
   ]
  },
  {
   "cell_type": "code",
   "execution_count": null,
   "metadata": {
    "collapsed": true
   },
   "outputs": [],
   "source": [
    "#blahblahblah"
   ]
  },
  {
   "cell_type": "code",
   "execution_count": null,
   "metadata": {
    "collapsed": true
   },
   "outputs": [],
   "source": []
  },
  {
   "cell_type": "code",
   "execution_count": null,
   "metadata": {
    "collapsed": true
   },
   "outputs": [],
   "source": []
  },
  {
   "cell_type": "code",
   "execution_count": null,
   "metadata": {
    "collapsed": true
   },
   "outputs": [],
   "source": []
  },
  {
   "cell_type": "markdown",
   "metadata": {},
   "source": [
    "## Final Thoughts & Summary:"
   ]
  },
  {
   "cell_type": "code",
   "execution_count": null,
   "metadata": {
    "collapsed": true
   },
   "outputs": [],
   "source": []
  },
  {
   "cell_type": "code",
   "execution_count": null,
   "metadata": {
    "collapsed": true
   },
   "outputs": [],
   "source": []
  },
  {
   "cell_type": "code",
   "execution_count": null,
   "metadata": {
    "collapsed": true
   },
   "outputs": [],
   "source": [
    "\n"
   ]
  },
  {
   "cell_type": "code",
   "execution_count": null,
   "metadata": {
    "collapsed": true
   },
   "outputs": [],
   "source": []
  }
 ],
 "metadata": {
  "anaconda-cloud": {},
  "kernelspec": {
   "display_name": "Python [Root]",
   "language": "python",
   "name": "Python [Root]"
  },
  "language_info": {
   "codemirror_mode": {
    "name": "ipython",
    "version": 3
   },
   "file_extension": ".py",
   "mimetype": "text/x-python",
   "name": "python",
   "nbconvert_exporter": "python",
   "pygments_lexer": "ipython3",
   "version": "3.5.1"
  }
 },
 "nbformat": 4,
 "nbformat_minor": 0
}
