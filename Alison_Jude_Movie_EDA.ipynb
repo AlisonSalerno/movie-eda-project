{
 "cells": [
  {
   "cell_type": "markdown",
   "metadata": {},
   "source": [
    "## The Microsoft Scifi Project - A&J Analytica\n",
    "\n",
    "Microsoft sees all the big companies creating original video content, and they want to get in on the fun. They have decided to create a new movie studio, but the problem is they don’t know anything about creating movies. They also want to capture a niche and create only sci-fi movies. They have hired A&J Analytica to help them better understand the scifi genre. Your team is charged with doing data analysis and creating a presentation that explores what type of sci-fi films are currently doing the best at the box office. You must then translate those findings into actionable insights that the CEO can use when deciding what type of films they should be creating."
   ]
  },
  {
   "cell_type": "markdown",
   "metadata": {},
   "source": [
    "## DATASETS:"
   ]
  },
  {
   "cell_type": "markdown",
   "metadata": {
    "collapsed": true
   },
   "source": [
    "## Box Office Mojo Sci-Fi subgenre URLs:\n",
    "\n",
    "Affliction\thttps://www.boxofficemojo.com/genre/sg1826615553/?ref_=bo_gs_table_14 \n",
    "\n",
    "Space Opera\thttps://www.boxofficemojo.com/genre/sg2027942145/?ref_=bo_gs_table_31\n",
    "\n",
    "Person vs. Machine\thttps://www.boxofficemojo.com/genre/sg3235901697/?ref_=bo_gs_table_93\n",
    "\n",
    "Post-Apocalypse\thttps://www.boxofficemojo.com/genre/sg434041089/?ref_=bo_gs_table_36\n",
    "\n",
    "Supernatural\thttps://www.boxofficemojo.com/genre/sg3185570049/?ref_=bo_gs_table_4\n",
    "\n",
    "Alien Invasion\thttps://www.boxofficemojo.com/genre/sg4292866305/?ref_=bo_gs_table_9\n",
    "\n",
    "Time Travel\thttps://www.boxofficemojo.com/genre/sg501149953/?ref_=bo_gs_table_11\n",
    "\n",
    "Superhero\thttps://www.boxofficemojo.com/genre/sg2900226305/?ref_=bo_gs_table_12\n",
    "\n",
    "Robot\thttps://www.boxofficemojo.com/genre/sg3722375425/?ref_=bo_gs_table_32\n",
    "\n",
    "Future\thttps://www.boxofficemojo.com/genre/sg2799628545/?ref_=bo_gs_table_33\n",
    "\n",
    "\n",
    "** US & CANADA only"
   ]
  },
  {
   "cell_type": "markdown",
   "metadata": {},
   "source": [
    "## API: \n",
    "\n",
    "https://developers.themoviedb.org/3/getting-started/introduction"
   ]
  },
  {
   "cell_type": "markdown",
   "metadata": {},
   "source": [
    "## Checklist:\n",
    "\n",
    "- Organization/Code Cleanliness\n",
    "\n",
    "     Your notebook should contain 1 - 2 paragraphs briefly explaining your approach to this project.\n",
    "     \n",
    "     \n",
    "- Visualizations & EDA\n",
    "\n",
    "    Your project contains at least 4 meaningful data visualizations, with corresponding interpretations. All visualizations are well labeled with axes labels, a title, and a legend (when appropriate)\n",
    "    \n",
    "    You pose at least 3 meaningful questions and answer them through EDA. These questions should be well labeled and easy to identify inside the notebook.\n",
    "    \n",
    "     Level Up: Each question is clearly answered with a visualization that makes the answer easy to understand.\n",
    "   \n",
    "\n",
    "\n",
    "- Questions:\n",
    "\n",
    "    -What scifi film has the highest generated revenue? \n",
    "    \n",
    "    -What scifi film has the lowest generated revnue?\n",
    "    \n",
    "    -What percentage of sci-fi films have a rating of 4/90% or higher?\n",
    "    \n",
    "    -Subgenre breakout of the top 10 most popular sci-fi films? (popularity determined by rating or by revenue generated)\n",
    "    \n",
    "    -What is the average total revenue of all the films? Grouped by subgenres? Grouped by decade?\n",
    "    \n",
    "    -What is the correlation of revenue and rating?\n",
    "    \n",
    "    -Overall suggestion and final thoughts to Microsoft? \n",
    "    \n",
    "    -What is the distribution like?\n",
    "    \n",
    "    -Are there any outliers?\n",
    "    \n",
    "    -How do the different sub genre differ from one another in terms of success? Is there a correlation between them?\n",
    "   "
   ]
  },
  {
   "cell_type": "code",
   "execution_count": 151,
   "metadata": {
    "collapsed": true
   },
   "outputs": [],
   "source": [
    "#import packages needed\n",
    "\n",
    "import pandas as pd\n",
    "import matplotlib.pyplot as plt\n",
    "from matplotlib import style\n",
    "style.use('fivethirtyeight')\n",
    "import numpy as np\n",
    "import json\n",
    "import requests\n",
    "from bs4 import BeautifulSoup\n",
    "from re import sub\n",
    "from decimal import Decimal\n",
    "%matplotlib inline"
   ]
  },
  {
   "cell_type": "markdown",
   "metadata": {},
   "source": [
    "## API DATA SET:"
   ]
  },
  {
   "cell_type": "code",
   "execution_count": 4,
   "metadata": {
    "collapsed": true
   },
   "outputs": [],
   "source": [
    "#code"
   ]
  },
  {
   "cell_type": "code",
   "execution_count": null,
   "metadata": {
    "collapsed": true
   },
   "outputs": [],
   "source": [
    "#code"
   ]
  },
  {
   "cell_type": "code",
   "execution_count": null,
   "metadata": {
    "collapsed": true
   },
   "outputs": [],
   "source": [
    "#code"
   ]
  },
  {
   "cell_type": "code",
   "execution_count": null,
   "metadata": {
    "collapsed": true
   },
   "outputs": [],
   "source": [
    "#code"
   ]
  },
  {
   "cell_type": "code",
   "execution_count": null,
   "metadata": {
    "collapsed": true
   },
   "outputs": [],
   "source": [
    "#visualization"
   ]
  },
  {
   "cell_type": "markdown",
   "metadata": {},
   "source": [
    "## WEBSCRAPING DATA SET:"
   ]
  },
  {
   "cell_type": "code",
<<<<<<< HEAD
   "execution_count": 152,
   "metadata": {
    "collapsed": false
   },
   "outputs": [],
   "source": [
    "Affliction_url = 'https://www.boxofficemojo.com/genre/sg1826615553/?ref_=bo_gs_table_14'\n",
    "\n",
    "Space_Opera_url = 'https://www.boxofficemojo.com/genre/sg2027942145/?ref_=bo_gs_table_31'\n",
    "\n",
    "Person_vs_Machine_url = 'https://www.boxofficemojo.com/genre/sg3235901697/?ref_=bo_gs_table_93'\n",
    "\n",
    "Post_Apocalypse_url = 'https://www.boxofficemojo.com/genre/sg434041089/?ref_=bo_gs_table_36'\n",
    "\n",
    "Supernatural_url = 'https://www.boxofficemojo.com/genre/sg3185570049/?ref_=bo_gs_table_4'\n",
    "\n",
    "Alien_Invasion_url = 'https://www.boxofficemojo.com/genre/sg4292866305/?ref_=bo_gs_table_9'\n",
    "\n",
    "Time_Travel_url = 'https://www.boxofficemojo.com/genre/sg501149953/?ref_=bo_gs_table_11'\n",
    "\n",
    "Superhero_url = 'https://www.boxofficemojo.com/genre/sg2900226305/?ref_=bo_gs_table_12'\n",
    "\n",
    "Robot_url = 'https://www.boxofficemojo.com/genre/sg3722375425/?ref_=bo_gs_table_32'\n",
    "\n",
    "Future_url = 'https://www.boxofficemojo.com/genre/sg2799628545/?ref_=bo_gs_table_33'"
   ]
  },
  {
   "cell_type": "code",
   "execution_count": 173,
   "metadata": {
    "collapsed": false
   },
   "outputs": [],
   "source": [
    "subgenres_url = [Affliction_url, Space_Opera_url, Person_vs_Machine_url, Post_Apocalypse_url, \n",
    "             Supernatural_url, Alien_Invasion_url, Time_Travel_url, Superhero_url, Robot_url, Future_url]\n",
    "\n",
    "subgenres = ['Affliction', 'Space_Opera', 'Person_vs_Machine', 'Post_Apocalypse', \n",
    "             'Supernatural', 'Alien_Invasion', 'Time_Travel', 'Superhero', 'Robot', 'Future']"
   ]
  },
  {
   "cell_type": "code",
   "execution_count": 207,
   "metadata": {
    "collapsed": false
   },
   "outputs": [],
   "source": [
    "def soupitup(url, genre_string):\n",
    "    page = requests.get(url)\n",
    "    soup = BeautifulSoup(page.content, 'html.parser')\n",
    "    \n",
    "    titles = soup.find_all('td', class_='a-text-left mojo-field-type-title')\n",
    "    lifetime_gross = soup.find_all('td', class_='a-text-right mojo-field-type-money mojo-sort-column mojo-estimatable')\n",
    "    date_release = soup.find_all('td', class_='a-text-left mojo-field-type-date a-nowrap')\n",
    "    \n",
    "    Genre_List =[]\n",
    "    cur=0\n",
    "    while cur < len(titles):\n",
    "        Genre_Dict = {}\n",
    "        \n",
    "        Genre_Dict['Date_Released'] = date_release[cur].get_text()\n",
    "        Genre_Dict['Lifetime_Gross'] = lifetime_gross[cur].get_text()\n",
    "        Genre_Dict['Title'] = titles[cur].get_text()\n",
    "        \n",
    "        Genre_List.append(Genre_Dict)\n",
    "        cur+=1\n",
    "    \n",
    "    genre = pd.DataFrame(Genre_List)\n",
    "    genre['Subgenre'] = genre_string\n",
    "    return genre"
   ]
  },
  {
   "cell_type": "code",
   "execution_count": 206,
   "metadata": {
    "collapsed": false
   },
   "outputs": [
    {
     "data": {
      "text/plain": [
       "'https://www.boxofficemojo.com/genre/sg1826615553/?ref_=bo_gs_table_14'"
      ]
     },
     "execution_count": 206,
     "metadata": {},
     "output_type": "execute_result"
    }
   ],
   "source": [
    "subgenres_url[0]"
   ]
  },
  {
   "cell_type": "code",
   "execution_count": 208,
   "metadata": {
    "collapsed": false
   },
   "outputs": [],
   "source": [
    "sg_data_list = []\n",
    "g=0\n",
    "while g < 10:\n",
    "    finished_product = soupitup(subgenres_url[g], subgenres[g])\n",
    "    sg_data_list.append(finished_product)\n",
    "    g+=1"
   ]
  },
  {
   "cell_type": "code",
   "execution_count": 210,
   "metadata": {
    "collapsed": false
   },
   "outputs": [
    {
     "data": {
      "text/plain": [
       "10"
      ]
     },
     "execution_count": 210,
     "metadata": {},
     "output_type": "execute_result"
    }
   ],
   "source": [
    "len(sg_data_list)"
   ]
  },
  {
   "cell_type": "code",
   "execution_count": 211,
   "metadata": {
    "collapsed": true
   },
   "outputs": [],
   "source": [
    "mega_list = pd.concat(sg_data_list) "
   ]
  },
  {
   "cell_type": "code",
   "execution_count": 217,
   "metadata": {
    "collapsed": false
   },
   "outputs": [],
   "source": [
    "mega_list.reset_index(inplace=True)\n",
    "mega_list.drop('index', axis=1, inplace=True)"
   ]
  },
  {
   "cell_type": "code",
   "execution_count": 260,
   "metadata": {
    "collapsed": false
   },
   "outputs": [
    {
     "data": {
      "text/plain": [
       "749766139"
      ]
     },
     "execution_count": 260,
     "metadata": {},
     "output_type": "execute_result"
    }
   ],
   "source": []
  },
  {
   "cell_type": "code",
   "execution_count": 261,
   "metadata": {
    "collapsed": false,
    "scrolled": true
   },
   "outputs": [],
   "source": [
    "#mega_list['Lifetime_Gross'] = mega_list['Lifetime_Gross'].apply(lambda x: Decimal(sub(r'[^\\d.]', '', x)))"
   ]
  },
  {
   "cell_type": "code",
   "execution_count": 262,
   "metadata": {
    "collapsed": true
   },
   "outputs": [],
   "source": [
    "mega_list['Lifetime_Gross'] = mega_list['Lifetime_Gross'].apply(lambda x: int(x))"
   ]
  },
  {
   "cell_type": "code",
   "execution_count": null,
   "metadata": {
    "collapsed": false
   },
   "outputs": [],
   "source": []
  },
  {
   "cell_type": "code",
   "execution_count": 242,
   "metadata": {
    "collapsed": false
   },
   "outputs": [],
   "source": [
    "mega_list.to_csv('movie_subgenres.csv')"
   ]
  },
  {
   "cell_type": "code",
   "execution_count": 245,
   "metadata": {
    "collapsed": false
   },
   "outputs": [],
   "source": [
    "#pd.read_csv('movie_subgenres.csv', index_col=0)"
   ]
  },
  {
   "cell_type": "code",
   "execution_count": 282,
   "metadata": {
    "collapsed": false
   },
   "outputs": [
    {
     "data": {
      "text/plain": [
       "<matplotlib.axes._subplots.AxesSubplot at 0x127526208>"
      ]
     },
     "execution_count": 282,
     "metadata": {},
     "output_type": "execute_result"
    },
    {
     "data": {
      "image/png": "iVBORw0KGgoAAAANSUhEUgAAApAAAAEcCAYAAABwL4RuAAAABHNCSVQICAgIfAhkiAAAAAlwSFlz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\n",
      "text/plain": [
       "<matplotlib.figure.Figure at 0x127323ba8>"
      ]
     },
     "metadata": {},
     "output_type": "display_data"
    }
   ],
   "source": [
    "mega_list.groupby('Subgenre')['Lifetime_Gross'].mean().plot(kind='barh', figsize=(6,4))"
   ]
  },
  {
   "cell_type": "code",
   "execution_count": 278,
   "metadata": {
    "collapsed": false
   },
   "outputs": [
    {
     "data": {
      "image/png": "iVBORw0KGgoAAAANSUhEUgAAB3cAAAXaCAYAAADnuOeeAAAABHNCSVQICAgIfAhkiAAAAAlwSFlz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\nCih3AQAAAAAAAKbA/wOmDACD5cvDaAAAAABJRU5ErkJggg==\n",
      "text/plain": [
       "<matplotlib.figure.Figure at 0x1244a85c0>"
      ]
     },
     "metadata": {},
     "output_type": "display_data"
    }
   ],
   "source": [
    "mega_list[mega_list['Subgenre'] == 'Affliction'].plot(kind='bar', x='Title', y='Lifetime_Gross', figsize=(30,18))\n",
    "plt.rcParams.update({'font.size': 22})"
   ]
  },
  {
   "cell_type": "code",
   "execution_count": 158,
   "metadata": {
    "collapsed": false
   },
=======
   "execution_count": 103,
   "metadata": {},
>>>>>>> 2f034172033462cadab07119d530bafe2db5ab12
   "outputs": [
    {
     "data": {
      "text/plain": [
       "<Response [200]>"
      ]
     },
     "execution_count": 158,
     "metadata": {},
     "output_type": "execute_result"
    }
   ],
   "source": [
    "#code\n",
    "page = requests.get(Person_vs_Machine)\n",
    "page\n"
   ]
  },
  {
   "cell_type": "code",
   "execution_count": 104,
   "metadata": {},
   "outputs": [],
   "source": [
    "#page.content"
   ]
  },
  {
   "cell_type": "code",
<<<<<<< HEAD
   "execution_count": 159,
   "metadata": {
    "collapsed": false
   },
=======
   "execution_count": 106,
   "metadata": {},
>>>>>>> 2f034172033462cadab07119d530bafe2db5ab12
   "outputs": [],
   "source": [
    "soup = BeautifulSoup(page.content, 'html.parser')\n",
    "#soup"
   ]
  },
  {
   "cell_type": "code",
   "execution_count": 16,
   "metadata": {},
   "outputs": [],
   "source": [
    "#print(soup.prettify())"
   ]
  },
  {
   "cell_type": "code",
   "execution_count": 18,
   "metadata": {},
   "outputs": [],
   "source": [
    "#list(soup.children)\n"
   ]
  },
  {
   "cell_type": "code",
   "execution_count": 21,
   "metadata": {},
   "outputs": [
    {
     "data": {
      "text/plain": [
       "2"
      ]
     },
     "execution_count": 21,
     "metadata": {},
     "output_type": "execute_result"
    }
   ],
   "source": [
    "len(list(soup.children))"
   ]
  },
  {
   "cell_type": "code",
   "execution_count": 22,
   "metadata": {},
   "outputs": [
    {
     "data": {
      "text/plain": [
       "[bs4.element.Doctype, bs4.element.Tag]"
      ]
     },
     "execution_count": 22,
     "metadata": {},
     "output_type": "execute_result"
    }
   ],
   "source": [
    "[type(item) for item in list(soup.children)]\n"
   ]
  },
  {
   "cell_type": "code",
   "execution_count": 107,
   "metadata": {
    "collapsed": true
   },
   "outputs": [],
   "source": [
    "html = list(soup.children)[1]\n"
   ]
  },
  {
   "cell_type": "code",
   "execution_count": 25,
   "metadata": {},
   "outputs": [],
   "source": [
    "#html"
   ]
  },
  {
   "cell_type": "code",
   "execution_count": 30,
   "metadata": {},
   "outputs": [],
   "source": [
    "#list(html.children)"
   ]
  },
  {
   "cell_type": "code",
   "execution_count": 108,
   "metadata": {},
   "outputs": [],
   "source": [
    "body = list(html.children)[1]\n"
   ]
  },
  {
   "cell_type": "code",
   "execution_count": 48,
   "metadata": {},
   "outputs": [],
   "source": [
    "#print(body.prettify())"
   ]
  },
  {
   "cell_type": "code",
   "execution_count": 109,
   "metadata": {
    "collapsed": true
   },
   "outputs": [],
   "source": [
    "titles = soup.find_all('td', class_='a-text-left mojo-field-type-title')"
   ]
  },
  {
   "cell_type": "code",
   "execution_count": 110,
   "metadata": {
    "collapsed": true
   },
   "outputs": [],
   "source": [
    "lifetime_gross = soup.find_all('td', class_='a-text-right mojo-field-type-money mojo-sort-column mojo-estimatable')"
   ]
  },
  {
   "cell_type": "code",
   "execution_count": 111,
   "metadata": {
    "collapsed": true
   },
   "outputs": [],
   "source": [
    "date_release = soup.find_all('td', class_='a-text-left mojo-field-type-date a-nowrap')"
   ]
  },
  {
   "cell_type": "code",
   "execution_count": 112,
   "metadata": {},
   "outputs": [
    {
     "data": {
      "text/plain": [
       "'$459,005,868'"
      ]
     },
     "execution_count": 112,
     "metadata": {},
     "output_type": "execute_result"
    }
   ],
   "source": [
    "lifetime_gross[0].get_text()"
   ]
  },
  {
   "cell_type": "code",
   "execution_count": 93,
   "metadata": {},
   "outputs": [],
   "source": [
    "# for date in date_release:\n",
    "#     print(date.get_text())"
   ]
  },
  {
   "cell_type": "code",
   "execution_count": 94,
   "metadata": {},
   "outputs": [],
   "source": [
    "# for title in titles:\n",
    "#     print(title.get_text())"
   ]
  },
  {
   "cell_type": "code",
   "execution_count": 95,
   "metadata": {},
   "outputs": [],
   "source": [
    "# for gross in lifetime_gross:\n",
    "#     print(gross.get_text())"
   ]
  },
  {
   "cell_type": "code",
   "execution_count": 114,
   "metadata": {},
   "outputs": [
    {
     "name": "stdout",
     "output_type": "stream",
     "text": [
      "63\n",
      "63\n",
      "63\n"
     ]
    }
   ],
   "source": [
    "print(len(titles))\n",
    "print(len(lifetime_gross))\n",
    "print(len(date_release))"
   ]
  },
  {
   "cell_type": "code",
<<<<<<< HEAD
   "execution_count": 127,
   "metadata": {
    "collapsed": false
   },
=======
   "execution_count": 113,
   "metadata": {},
>>>>>>> 2f034172033462cadab07119d530bafe2db5ab12
   "outputs": [
    {
     "data": {
      "text/plain": [
       "{'Date Released': 'May 1, 2015',\n",
       " 'Lifetime Gross': '$459,005,868',\n",
       " 'Title': 'Avengers: Age of Ultron'}"
      ]
     },
     "execution_count": 127,
     "metadata": {},
     "output_type": "execute_result"
    }
   ],
   "source": [
    "Test"
   ]
  },
  {
   "cell_type": "code",
   "execution_count": 126,
   "metadata": {
    "collapsed": true
   },
   "outputs": [],
   "source": [
    "Test = {}\n",
    "\n",
    "Test['Title'] = titles[0].get_text()\n",
    "Test['Lifetime Gross'] = lifetime_gross[0].get_text()\n",
    "Test['Date Released'] = date_release[0].get_text()"
   ]
  },
  {
   "cell_type": "code",
   "execution_count": 139,
   "metadata": {
    "collapsed": false
   },
   "outputs": [],
   "source": [
    "Test_list =[]\n",
    "Test = {}\n",
    "cur=0\n",
    "while cur < 63:\n",
    "    Test = {}\n",
    "    Test['Title'] = titles[cur].get_text()\n",
    "    Test['Lifetime_Gross'] = lifetime_gross[cur].get_text()\n",
    "    Test['Date_Released'] = date_release[cur].get_text()\n",
    "    Test_list.append(Test)\n",
    "    cur+=1\n",
    "    \n",
    "    "
   ]
  },
  {
   "cell_type": "code",
   "execution_count": 140,
   "metadata": {
    "collapsed": false
   },
   "outputs": [
    {
     "data": {
      "text/html": [
       "<div>\n",
       "<table border=\"1\" class=\"dataframe\">\n",
       "  <thead>\n",
       "    <tr style=\"text-align: right;\">\n",
       "      <th></th>\n",
       "      <th>Date_Released</th>\n",
       "      <th>Lifetime_Gross</th>\n",
       "      <th>Title</th>\n",
       "    </tr>\n",
       "  </thead>\n",
       "  <tbody>\n",
       "    <tr>\n",
       "      <th>0</th>\n",
       "      <td>May 1, 2015</td>\n",
       "      <td>$459,005,868</td>\n",
       "      <td>Avengers: Age of Ultron</td>\n",
       "    </tr>\n",
       "    <tr>\n",
       "      <th>1</th>\n",
       "      <td>Jun 24, 2009</td>\n",
       "      <td>$402,111,870</td>\n",
       "      <td>Transformers: Revenge of the Fallen</td>\n",
       "    </tr>\n",
       "    <tr>\n",
       "      <th>2</th>\n",
       "      <td>Jun 29, 2011</td>\n",
       "      <td>$352,390,543</td>\n",
       "      <td>Transformers: Dark of the Moon</td>\n",
       "    </tr>\n",
       "    <tr>\n",
       "      <th>3</th>\n",
       "      <td>Jul 3, 2007</td>\n",
       "      <td>$319,246,193</td>\n",
       "      <td>Transformers</td>\n",
       "    </tr>\n",
       "    <tr>\n",
       "      <th>4</th>\n",
       "      <td>Jun 27, 2014</td>\n",
       "      <td>$245,439,076</td>\n",
       "      <td>Transformers: Age of Extinction</td>\n",
       "    </tr>\n",
       "    <tr>\n",
       "      <th>5</th>\n",
       "      <td>May 23, 2014</td>\n",
       "      <td>$233,921,534</td>\n",
       "      <td>X-Men: Days of Future Past</td>\n",
       "    </tr>\n",
       "    <tr>\n",
       "      <th>6</th>\n",
       "      <td>Jun 27, 2008</td>\n",
       "      <td>$223,808,164</td>\n",
       "      <td>WALL·E</td>\n",
       "    </tr>\n",
       "    <tr>\n",
       "      <th>7</th>\n",
       "      <td>Nov 7, 2014</td>\n",
       "      <td>$222,527,828</td>\n",
       "      <td>Big Hero 6</td>\n",
       "    </tr>\n",
       "    <tr>\n",
       "      <th>8</th>\n",
       "      <td>Jul 3, 1991</td>\n",
       "      <td>$204,843,345</td>\n",
       "      <td>Terminator 2: Judgment Day</td>\n",
       "    </tr>\n",
       "    <tr>\n",
       "      <th>9</th>\n",
       "      <td>Jul 2, 2003</td>\n",
       "      <td>$150,371,112</td>\n",
       "      <td>Terminator 3: Rise of the Machines</td>\n",
       "    </tr>\n",
       "    <tr>\n",
       "      <th>10</th>\n",
       "      <td>Jul 16, 2004</td>\n",
       "      <td>$144,801,023</td>\n",
       "      <td>I, Robot</td>\n",
       "    </tr>\n",
       "    <tr>\n",
       "      <th>11</th>\n",
       "      <td>Jun 21, 2017</td>\n",
       "      <td>$130,168,683</td>\n",
       "      <td>Transformers: The Last Knight</td>\n",
       "    </tr>\n",
       "    <tr>\n",
       "      <th>12</th>\n",
       "      <td>Mar 11, 2005</td>\n",
       "      <td>$128,200,012</td>\n",
       "      <td>Robots</td>\n",
       "    </tr>\n",
       "    <tr>\n",
       "      <th>13</th>\n",
       "      <td>Dec 21, 2018</td>\n",
       "      <td>$127,195,589</td>\n",
       "      <td>Bumblebee</td>\n",
       "    </tr>\n",
       "    <tr>\n",
       "      <th>14</th>\n",
       "      <td>Jun 8, 2012</td>\n",
       "      <td>$126,477,084</td>\n",
       "      <td>Prometheus</td>\n",
       "    </tr>\n",
       "    <tr>\n",
       "      <th>15</th>\n",
       "      <td>May 21, 2009</td>\n",
       "      <td>$125,322,469</td>\n",
       "      <td>Terminator Salvation</td>\n",
       "    </tr>\n",
       "    <tr>\n",
       "      <th>16</th>\n",
       "      <td>Jul 12, 2013</td>\n",
       "      <td>$101,802,906</td>\n",
       "      <td>Pacific Rim</td>\n",
       "    </tr>\n",
       "    <tr>\n",
       "      <th>17</th>\n",
       "      <td>Jul 23, 1999</td>\n",
       "      <td>$97,403,112</td>\n",
       "      <td>Inspector Gadget</td>\n",
       "    </tr>\n",
       "    <tr>\n",
       "      <th>18</th>\n",
       "      <td>Oct 6, 2017</td>\n",
       "      <td>$92,054,159</td>\n",
       "      <td>Blade Runner 2049</td>\n",
       "    </tr>\n",
       "    <tr>\n",
       "      <th>19</th>\n",
       "      <td>Nov 22, 1996</td>\n",
       "      <td>$92,027,888</td>\n",
       "      <td>Star Trek: First Contact</td>\n",
       "    </tr>\n",
       "    <tr>\n",
       "      <th>20</th>\n",
       "      <td>Jul 1, 2015</td>\n",
       "      <td>$89,760,956</td>\n",
       "      <td>Terminator Genisys</td>\n",
       "    </tr>\n",
       "    <tr>\n",
       "      <th>21</th>\n",
       "      <td>Feb 14, 2019</td>\n",
       "      <td>$85,710,210</td>\n",
       "      <td>Alita: Battle Angel</td>\n",
       "    </tr>\n",
       "    <tr>\n",
       "      <th>22</th>\n",
       "      <td>Oct 7, 2011</td>\n",
       "      <td>$85,468,508</td>\n",
       "      <td>Real Steel</td>\n",
       "    </tr>\n",
       "    <tr>\n",
       "      <th>23</th>\n",
       "      <td>Jun 29, 2001</td>\n",
       "      <td>$78,616,689</td>\n",
       "      <td>A.I. Artificial Intelligence</td>\n",
       "    </tr>\n",
       "    <tr>\n",
       "      <th>24</th>\n",
       "      <td>Nov 1, 2019</td>\n",
       "      <td>$62,253,077</td>\n",
       "      <td>Terminator: Dark Fate</td>\n",
       "    </tr>\n",
       "    <tr>\n",
       "      <th>25</th>\n",
       "      <td>Mar 23, 2018</td>\n",
       "      <td>$59,874,525</td>\n",
       "      <td>Pacific Rim: Uprising</td>\n",
       "    </tr>\n",
       "    <tr>\n",
       "      <th>26</th>\n",
       "      <td>Jun 11, 2004</td>\n",
       "      <td>$59,484,742</td>\n",
       "      <td>The Stepford Wives</td>\n",
       "    </tr>\n",
       "    <tr>\n",
       "      <th>27</th>\n",
       "      <td>Feb 12, 2014</td>\n",
       "      <td>$58,607,007</td>\n",
       "      <td>RoboCop</td>\n",
       "    </tr>\n",
       "    <tr>\n",
       "      <th>28</th>\n",
       "      <td>Dec 17, 1999</td>\n",
       "      <td>$58,223,861</td>\n",
       "      <td>Bicentennial Man</td>\n",
       "    </tr>\n",
       "    <tr>\n",
       "      <th>29</th>\n",
       "      <td>Jul 17, 1987</td>\n",
       "      <td>$53,424,681</td>\n",
       "      <td>RoboCop</td>\n",
       "    </tr>\n",
       "    <tr>\n",
       "      <th>...</th>\n",
       "      <td>...</td>\n",
       "      <td>...</td>\n",
       "      <td>...</td>\n",
       "    </tr>\n",
       "    <tr>\n",
       "      <th>33</th>\n",
       "      <td>Sep 25, 2009</td>\n",
       "      <td>$38,577,772</td>\n",
       "      <td>Surrogates</td>\n",
       "    </tr>\n",
       "    <tr>\n",
       "      <th>34</th>\n",
       "      <td>Oct 26, 1984</td>\n",
       "      <td>$38,371,200</td>\n",
       "      <td>The Terminator</td>\n",
       "    </tr>\n",
       "    <tr>\n",
       "      <th>35</th>\n",
       "      <td>Sep 17, 2004</td>\n",
       "      <td>$37,762,677</td>\n",
       "      <td>Sky Captain and the World of Tomorrow</td>\n",
       "    </tr>\n",
       "    <tr>\n",
       "      <th>36</th>\n",
       "      <td>Jul 10, 1992</td>\n",
       "      <td>$36,299,898</td>\n",
       "      <td>Universal Soldier</td>\n",
       "    </tr>\n",
       "    <tr>\n",
       "      <th>37</th>\n",
       "      <td>Mar 6, 2015</td>\n",
       "      <td>$31,569,268</td>\n",
       "      <td>Chappie</td>\n",
       "    </tr>\n",
       "    <tr>\n",
       "      <th>38</th>\n",
       "      <td>Jun 25, 1982</td>\n",
       "      <td>$27,580,111</td>\n",
       "      <td>Blade Runner</td>\n",
       "    </tr>\n",
       "    <tr>\n",
       "      <th>39</th>\n",
       "      <td>Apr 10, 2015</td>\n",
       "      <td>$25,442,958</td>\n",
       "      <td>Ex Machina</td>\n",
       "    </tr>\n",
       "    <tr>\n",
       "      <th>40</th>\n",
       "      <td>Aug 3, 1999</td>\n",
       "      <td>$23,159,305</td>\n",
       "      <td>The Iron Giant</td>\n",
       "    </tr>\n",
       "    <tr>\n",
       "      <th>41</th>\n",
       "      <td>Jul 8, 1988</td>\n",
       "      <td>$21,630,088</td>\n",
       "      <td>Short Circuit 2</td>\n",
       "    </tr>\n",
       "    <tr>\n",
       "      <th>42</th>\n",
       "      <td>Jun 1, 2018</td>\n",
       "      <td>$11,977,130</td>\n",
       "      <td>Upgrade</td>\n",
       "    </tr>\n",
       "    <tr>\n",
       "      <th>43</th>\n",
       "      <td>Nov 5, 1993</td>\n",
       "      <td>$10,696,210</td>\n",
       "      <td>RoboCop 3</td>\n",
       "    </tr>\n",
       "    <tr>\n",
       "      <th>44</th>\n",
       "      <td>Aug 20, 1999</td>\n",
       "      <td>$10,667,893</td>\n",
       "      <td>Universal Soldier: The Return</td>\n",
       "    </tr>\n",
       "    <tr>\n",
       "      <th>45</th>\n",
       "      <td>Apr 7, 1989</td>\n",
       "      <td>$10,166,459</td>\n",
       "      <td>Cyborg</td>\n",
       "    </tr>\n",
       "    <tr>\n",
       "      <th>46</th>\n",
       "      <td>Oct 10, 1986</td>\n",
       "      <td>$8,988,731</td>\n",
       "      <td>Deadly Friend</td>\n",
       "    </tr>\n",
       "    <tr>\n",
       "      <th>47</th>\n",
       "      <td>Jun 14, 1985</td>\n",
       "      <td>$7,840,873</td>\n",
       "      <td>D.A.R.Y.L.</td>\n",
       "    </tr>\n",
       "    <tr>\n",
       "      <th>48</th>\n",
       "      <td>Aug 24, 2018</td>\n",
       "      <td>$6,501,381</td>\n",
       "      <td>A-X-L</td>\n",
       "    </tr>\n",
       "    <tr>\n",
       "      <th>49</th>\n",
       "      <td>Aug 8, 1986</td>\n",
       "      <td>$5,849,647</td>\n",
       "      <td>The Transformers: The Movie</td>\n",
       "    </tr>\n",
       "    <tr>\n",
       "      <th>50</th>\n",
       "      <td>Sep 14, 1990</td>\n",
       "      <td>$5,728,953</td>\n",
       "      <td>Hardware</td>\n",
       "    </tr>\n",
       "    <tr>\n",
       "      <th>51</th>\n",
       "      <td>Jan 18, 1991</td>\n",
       "      <td>$5,451,119</td>\n",
       "      <td>Eve of Destruction</td>\n",
       "    </tr>\n",
       "    <tr>\n",
       "      <th>52</th>\n",
       "      <td>Aug 23, 1996</td>\n",
       "      <td>$5,107,669</td>\n",
       "      <td>Solo</td>\n",
       "    </tr>\n",
       "    <tr>\n",
       "      <th>53</th>\n",
       "      <td>Jan 31, 1986</td>\n",
       "      <td>$4,601,256</td>\n",
       "      <td>Eliminators</td>\n",
       "    </tr>\n",
       "    <tr>\n",
       "      <th>54</th>\n",
       "      <td>Aug 17, 2012</td>\n",
       "      <td>$3,325,038</td>\n",
       "      <td>Robot &amp; Frank</td>\n",
       "    </tr>\n",
       "    <tr>\n",
       "      <th>55</th>\n",
       "      <td>May 11, 1990</td>\n",
       "      <td>$2,459,895</td>\n",
       "      <td>Class of 1999</td>\n",
       "    </tr>\n",
       "    <tr>\n",
       "      <th>56</th>\n",
       "      <td>Dec 18, 1981</td>\n",
       "      <td>$2,154,696</td>\n",
       "      <td>Heartbeeps</td>\n",
       "    </tr>\n",
       "    <tr>\n",
       "      <th>57</th>\n",
       "      <td>Jan 29, 1993</td>\n",
       "      <td>$2,001,124</td>\n",
       "      <td>Nemesis</td>\n",
       "    </tr>\n",
       "    <tr>\n",
       "      <th>58</th>\n",
       "      <td>Apr 10, 1987</td>\n",
       "      <td>$1,584,970</td>\n",
       "      <td>Making Mr. Right</td>\n",
       "    </tr>\n",
       "    <tr>\n",
       "      <th>59</th>\n",
       "      <td>Nov 21, 1990</td>\n",
       "      <td>$1,272,977</td>\n",
       "      <td>Robot Jox</td>\n",
       "    </tr>\n",
       "    <tr>\n",
       "      <th>60</th>\n",
       "      <td>Feb 13, 2004</td>\n",
       "      <td>$131,451</td>\n",
       "      <td>Robot Stories</td>\n",
       "    </tr>\n",
       "    <tr>\n",
       "      <th>61</th>\n",
       "      <td>Mar 13, 2015</td>\n",
       "      <td>$16,738</td>\n",
       "      <td>Eva</td>\n",
       "    </tr>\n",
       "    <tr>\n",
       "      <th>62</th>\n",
       "      <td>Nov 30, 2012</td>\n",
       "      <td>$5,460</td>\n",
       "      <td>Universal Soldier: Day of Reckoning</td>\n",
       "    </tr>\n",
       "  </tbody>\n",
       "</table>\n",
       "<p>63 rows × 3 columns</p>\n",
       "</div>"
      ],
      "text/plain": [
       "   Date_Released Lifetime_Gross                                  Title\n",
       "0    May 1, 2015   $459,005,868                Avengers: Age of Ultron\n",
       "1   Jun 24, 2009   $402,111,870    Transformers: Revenge of the Fallen\n",
       "2   Jun 29, 2011   $352,390,543         Transformers: Dark of the Moon\n",
       "3    Jul 3, 2007   $319,246,193                           Transformers\n",
       "4   Jun 27, 2014   $245,439,076        Transformers: Age of Extinction\n",
       "5   May 23, 2014   $233,921,534             X-Men: Days of Future Past\n",
       "6   Jun 27, 2008   $223,808,164                                 WALL·E\n",
       "7    Nov 7, 2014   $222,527,828                             Big Hero 6\n",
       "8    Jul 3, 1991   $204,843,345             Terminator 2: Judgment Day\n",
       "9    Jul 2, 2003   $150,371,112     Terminator 3: Rise of the Machines\n",
       "10  Jul 16, 2004   $144,801,023                               I, Robot\n",
       "11  Jun 21, 2017   $130,168,683          Transformers: The Last Knight\n",
       "12  Mar 11, 2005   $128,200,012                                 Robots\n",
       "13  Dec 21, 2018   $127,195,589                              Bumblebee\n",
       "14   Jun 8, 2012   $126,477,084                             Prometheus\n",
       "15  May 21, 2009   $125,322,469                   Terminator Salvation\n",
       "16  Jul 12, 2013   $101,802,906                            Pacific Rim\n",
       "17  Jul 23, 1999    $97,403,112                       Inspector Gadget\n",
       "18   Oct 6, 2017    $92,054,159                      Blade Runner 2049\n",
       "19  Nov 22, 1996    $92,027,888               Star Trek: First Contact\n",
       "20   Jul 1, 2015    $89,760,956                     Terminator Genisys\n",
       "21  Feb 14, 2019    $85,710,210                    Alita: Battle Angel\n",
       "22   Oct 7, 2011    $85,468,508                             Real Steel\n",
       "23  Jun 29, 2001    $78,616,689           A.I. Artificial Intelligence\n",
       "24   Nov 1, 2019    $62,253,077                  Terminator: Dark Fate\n",
       "25  Mar 23, 2018    $59,874,525                  Pacific Rim: Uprising\n",
       "26  Jun 11, 2004    $59,484,742                     The Stepford Wives\n",
       "27  Feb 12, 2014    $58,607,007                                RoboCop\n",
       "28  Dec 17, 1999    $58,223,861                       Bicentennial Man\n",
       "29  Jul 17, 1987    $53,424,681                                RoboCop\n",
       "..           ...            ...                                    ...\n",
       "33  Sep 25, 2009    $38,577,772                             Surrogates\n",
       "34  Oct 26, 1984    $38,371,200                         The Terminator\n",
       "35  Sep 17, 2004    $37,762,677  Sky Captain and the World of Tomorrow\n",
       "36  Jul 10, 1992    $36,299,898                      Universal Soldier\n",
       "37   Mar 6, 2015    $31,569,268                                Chappie\n",
       "38  Jun 25, 1982    $27,580,111                           Blade Runner\n",
       "39  Apr 10, 2015    $25,442,958                             Ex Machina\n",
       "40   Aug 3, 1999    $23,159,305                         The Iron Giant\n",
       "41   Jul 8, 1988    $21,630,088                        Short Circuit 2\n",
       "42   Jun 1, 2018    $11,977,130                                Upgrade\n",
       "43   Nov 5, 1993    $10,696,210                              RoboCop 3\n",
       "44  Aug 20, 1999    $10,667,893          Universal Soldier: The Return\n",
       "45   Apr 7, 1989    $10,166,459                                 Cyborg\n",
       "46  Oct 10, 1986     $8,988,731                          Deadly Friend\n",
       "47  Jun 14, 1985     $7,840,873                             D.A.R.Y.L.\n",
       "48  Aug 24, 2018     $6,501,381                                  A-X-L\n",
       "49   Aug 8, 1986     $5,849,647            The Transformers: The Movie\n",
       "50  Sep 14, 1990     $5,728,953                               Hardware\n",
       "51  Jan 18, 1991     $5,451,119                     Eve of Destruction\n",
       "52  Aug 23, 1996     $5,107,669                                   Solo\n",
       "53  Jan 31, 1986     $4,601,256                            Eliminators\n",
       "54  Aug 17, 2012     $3,325,038                          Robot & Frank\n",
       "55  May 11, 1990     $2,459,895                          Class of 1999\n",
       "56  Dec 18, 1981     $2,154,696                             Heartbeeps\n",
       "57  Jan 29, 1993     $2,001,124                                Nemesis\n",
       "58  Apr 10, 1987     $1,584,970                       Making Mr. Right\n",
       "59  Nov 21, 1990     $1,272,977                              Robot Jox\n",
       "60  Feb 13, 2004       $131,451                          Robot Stories\n",
       "61  Mar 13, 2015        $16,738                                    Eva\n",
       "62  Nov 30, 2012         $5,460    Universal Soldier: Day of Reckoning\n",
       "\n",
       "[63 rows x 3 columns]"
      ]
     },
     "execution_count": 140,
     "metadata": {},
     "output_type": "execute_result"
    }
   ],
   "source": [
    "df = pd.DataFrame(Test_list)\n",
    "df"
   ]
  },
  {
   "cell_type": "code",
   "execution_count": 121,
   "metadata": {
    "collapsed": false,
    "scrolled": true
   },
   "outputs": [
    {
     "name": "stdout",
     "output_type": "stream",
     "text": [
      "Title: Avengers: Age of Ultron\n",
      "Lifetime Gross:  $459,005,868\n",
      "Date Released:  May 1, 2015\n",
      "\n",
      "Title: Transformers: Revenge of the Fallen\n",
      "Lifetime Gross:  $402,111,870\n",
      "Date Released:  Jun 24, 2009\n",
      "\n",
      "Title: Transformers: Dark of the Moon\n",
      "Lifetime Gross:  $352,390,543\n",
      "Date Released:  Jun 29, 2011\n",
      "\n",
      "Title: Transformers\n",
      "Lifetime Gross:  $319,246,193\n",
      "Date Released:  Jul 3, 2007\n",
      "\n",
      "Title: Transformers: Age of Extinction\n",
      "Lifetime Gross:  $245,439,076\n",
      "Date Released:  Jun 27, 2014\n",
      "\n",
      "Title: X-Men: Days of Future Past\n",
      "Lifetime Gross:  $233,921,534\n",
      "Date Released:  May 23, 2014\n",
      "\n",
      "Title: WALL·E\n",
      "Lifetime Gross:  $223,808,164\n",
      "Date Released:  Jun 27, 2008\n",
      "\n",
      "Title: Big Hero 6\n",
      "Lifetime Gross:  $222,527,828\n",
      "Date Released:  Nov 7, 2014\n",
      "\n",
      "Title: Terminator 2: Judgment Day\n",
      "Lifetime Gross:  $204,843,345\n",
      "Date Released:  Jul 3, 1991\n",
      "\n",
      "Title: Terminator 3: Rise of the Machines\n",
      "Lifetime Gross:  $150,371,112\n",
      "Date Released:  Jul 2, 2003\n",
      "\n",
      "Title: I, Robot\n",
      "Lifetime Gross:  $144,801,023\n",
      "Date Released:  Jul 16, 2004\n",
      "\n",
      "Title: Transformers: The Last Knight\n",
      "Lifetime Gross:  $130,168,683\n",
      "Date Released:  Jun 21, 2017\n",
      "\n",
      "Title: Robots\n",
      "Lifetime Gross:  $128,200,012\n",
      "Date Released:  Mar 11, 2005\n",
      "\n",
      "Title: Bumblebee\n",
      "Lifetime Gross:  $127,195,589\n",
      "Date Released:  Dec 21, 2018\n",
      "\n",
      "Title: Prometheus\n",
      "Lifetime Gross:  $126,477,084\n",
      "Date Released:  Jun 8, 2012\n",
      "\n",
      "Title: Terminator Salvation\n",
      "Lifetime Gross:  $125,322,469\n",
      "Date Released:  May 21, 2009\n",
      "\n",
      "Title: Pacific Rim\n",
      "Lifetime Gross:  $101,802,906\n",
      "Date Released:  Jul 12, 2013\n",
      "\n",
      "Title: Inspector Gadget\n",
      "Lifetime Gross:  $97,403,112\n",
      "Date Released:  Jul 23, 1999\n",
      "\n",
      "Title: Blade Runner 2049\n",
      "Lifetime Gross:  $92,054,159\n",
      "Date Released:  Oct 6, 2017\n",
      "\n",
      "Title: Star Trek: First Contact\n",
      "Lifetime Gross:  $92,027,888\n",
      "Date Released:  Nov 22, 1996\n",
      "\n",
      "Title: Terminator Genisys\n",
      "Lifetime Gross:  $89,760,956\n",
      "Date Released:  Jul 1, 2015\n",
      "\n",
      "Title: Alita: Battle Angel\n",
      "Lifetime Gross:  $85,710,210\n",
      "Date Released:  Feb 14, 2019\n",
      "\n",
      "Title: Real Steel\n",
      "Lifetime Gross:  $85,468,508\n",
      "Date Released:  Oct 7, 2011\n",
      "\n",
      "Title: A.I. Artificial Intelligence\n",
      "Lifetime Gross:  $78,616,689\n",
      "Date Released:  Jun 29, 2001\n",
      "\n",
      "Title: Terminator: Dark Fate\n",
      "Lifetime Gross:  $62,253,077\n",
      "Date Released:  Nov 1, 2019\n",
      "\n",
      "Title: Pacific Rim: Uprising\n",
      "Lifetime Gross:  $59,874,525\n",
      "Date Released:  Mar 23, 2018\n",
      "\n",
      "Title: The Stepford Wives\n",
      "Lifetime Gross:  $59,484,742\n",
      "Date Released:  Jun 11, 2004\n",
      "\n",
      "Title: RoboCop\n",
      "Lifetime Gross:  $58,607,007\n",
      "Date Released:  Feb 12, 2014\n",
      "\n",
      "Title: Bicentennial Man\n",
      "Lifetime Gross:  $58,223,861\n",
      "Date Released:  Dec 17, 1999\n",
      "\n",
      "Title: RoboCop\n",
      "Lifetime Gross:  $53,424,681\n",
      "Date Released:  Jul 17, 1987\n",
      "\n",
      "Title: RoboCop 2\n",
      "Lifetime Gross:  $45,681,173\n",
      "Date Released:  Jun 22, 1990\n",
      "\n",
      "Title: Short Circuit\n",
      "Lifetime Gross:  $40,697,761\n",
      "Date Released:  May 9, 1986\n",
      "\n",
      "Title: Ghost in the Shell\n",
      "Lifetime Gross:  $40,563,557\n",
      "Date Released:  Mar 31, 2017\n",
      "\n",
      "Title: Surrogates\n",
      "Lifetime Gross:  $38,577,772\n",
      "Date Released:  Sep 25, 2009\n",
      "\n",
      "Title: The Terminator\n",
      "Lifetime Gross:  $38,371,200\n",
      "Date Released:  Oct 26, 1984\n",
      "\n",
      "Title: Sky Captain and the World of Tomorrow\n",
      "Lifetime Gross:  $37,762,677\n",
      "Date Released:  Sep 17, 2004\n",
      "\n",
      "Title: Universal Soldier\n",
      "Lifetime Gross:  $36,299,898\n",
      "Date Released:  Jul 10, 1992\n",
      "\n",
      "Title: Chappie\n",
      "Lifetime Gross:  $31,569,268\n",
      "Date Released:  Mar 6, 2015\n",
      "\n",
      "Title: Blade Runner\n",
      "Lifetime Gross:  $27,580,111\n",
      "Date Released:  Jun 25, 1982\n",
      "\n",
      "Title: Ex Machina\n",
      "Lifetime Gross:  $25,442,958\n",
      "Date Released:  Apr 10, 2015\n",
      "\n",
      "Title: The Iron Giant\n",
      "Lifetime Gross:  $23,159,305\n",
      "Date Released:  Aug 3, 1999\n",
      "\n",
      "Title: Short Circuit 2\n",
      "Lifetime Gross:  $21,630,088\n",
      "Date Released:  Jul 8, 1988\n",
      "\n",
      "Title: Upgrade\n",
      "Lifetime Gross:  $11,977,130\n",
      "Date Released:  Jun 1, 2018\n",
      "\n",
      "Title: RoboCop 3\n",
      "Lifetime Gross:  $10,696,210\n",
      "Date Released:  Nov 5, 1993\n",
      "\n",
      "Title: Universal Soldier: The Return\n",
      "Lifetime Gross:  $10,667,893\n",
      "Date Released:  Aug 20, 1999\n",
      "\n",
      "Title: Cyborg\n",
      "Lifetime Gross:  $10,166,459\n",
      "Date Released:  Apr 7, 1989\n",
      "\n",
      "Title: Deadly Friend\n",
      "Lifetime Gross:  $8,988,731\n",
      "Date Released:  Oct 10, 1986\n",
      "\n",
      "Title: D.A.R.Y.L.\n",
      "Lifetime Gross:  $7,840,873\n",
      "Date Released:  Jun 14, 1985\n",
      "\n",
      "Title: A-X-L\n",
      "Lifetime Gross:  $6,501,381\n",
      "Date Released:  Aug 24, 2018\n",
      "\n",
      "Title: The Transformers: The Movie\n",
      "Lifetime Gross:  $5,849,647\n",
      "Date Released:  Aug 8, 1986\n",
      "\n",
      "Title: Hardware\n",
      "Lifetime Gross:  $5,728,953\n",
      "Date Released:  Sep 14, 1990\n",
      "\n",
      "Title: Eve of Destruction\n",
      "Lifetime Gross:  $5,451,119\n",
      "Date Released:  Jan 18, 1991\n",
      "\n",
      "Title: Solo\n",
      "Lifetime Gross:  $5,107,669\n",
      "Date Released:  Aug 23, 1996\n",
      "\n",
      "Title: Eliminators\n",
      "Lifetime Gross:  $4,601,256\n",
      "Date Released:  Jan 31, 1986\n",
      "\n",
      "Title: Robot & Frank\n",
      "Lifetime Gross:  $3,325,038\n",
      "Date Released:  Aug 17, 2012\n",
      "\n",
      "Title: Class of 1999\n",
      "Lifetime Gross:  $2,459,895\n",
      "Date Released:  May 11, 1990\n",
      "\n",
      "Title: Heartbeeps\n",
      "Lifetime Gross:  $2,154,696\n",
      "Date Released:  Dec 18, 1981\n",
      "\n",
      "Title: Nemesis\n",
      "Lifetime Gross:  $2,001,124\n",
      "Date Released:  Jan 29, 1993\n",
      "\n",
      "Title: Making Mr. Right\n",
      "Lifetime Gross:  $1,584,970\n",
      "Date Released:  Apr 10, 1987\n",
      "\n",
      "Title: Robot Jox\n",
      "Lifetime Gross:  $1,272,977\n",
      "Date Released:  Nov 21, 1990\n",
      "\n",
      "Title: Robot Stories\n",
      "Lifetime Gross:  $131,451\n",
      "Date Released:  Feb 13, 2004\n",
      "\n",
      "Title: Eva\n",
      "Lifetime Gross:  $16,738\n",
      "Date Released:  Mar 13, 2015\n",
      "\n",
      "Title: Universal Soldier: Day of Reckoning\n",
      "Lifetime Gross:  $5,460\n",
      "Date Released:  Nov 30, 2012\n",
      "\n"
     ]
    }
   ],
   "source": [
    "cur = 0\n",
    "\n",
    "while cur < 63:\n",
    "    print('Title:', titles[cur].get_text())\n",
    "    print('Lifetime Gross: ', lifetime_gross[cur].get_text())\n",
    "    print('Date Released: ', date_release[cur].get_text())\n",
    "    print()\n",
    "    cur+=1"
   ]
  },
  {
   "cell_type": "code",
   "execution_count": 101,
   "metadata": {},
   "outputs": [],
   "source": [
    "# for date in date_release:\n",
    "#     print(date.get_text())\n",
    "\n",
    "# for title in titles:\n",
    "#     print(title.get_text())\n",
    "\n",
    "# for gross in lifetime_gross:\n",
    "#     print(gross.get_text())"
   ]
  },
  {
   "cell_type": "code",
   "execution_count": null,
   "metadata": {
    "collapsed": true
   },
   "outputs": [],
   "source": []
  },
  {
   "cell_type": "code",
   "execution_count": null,
   "metadata": {
    "collapsed": true
   },
   "outputs": [],
   "source": []
  },
  {
   "cell_type": "code",
   "execution_count": null,
   "metadata": {
    "collapsed": true
   },
   "outputs": [],
   "source": []
  },
  {
   "cell_type": "code",
   "execution_count": null,
   "metadata": {
    "collapsed": true
   },
   "outputs": [],
   "source": []
  },
  {
   "cell_type": "code",
   "execution_count": null,
   "metadata": {
    "collapsed": true
   },
   "outputs": [],
   "source": []
  },
  {
   "cell_type": "code",
   "execution_count": null,
   "metadata": {
    "collapsed": true
   },
   "outputs": [],
   "source": []
  },
  {
   "cell_type": "markdown",
   "metadata": {},
   "source": [
    "## Merged Datasets:"
   ]
  },
  {
   "cell_type": "code",
   "execution_count": null,
   "metadata": {
    "collapsed": true
   },
   "outputs": [],
   "source": [
    "#more viz"
   ]
  },
  {
   "cell_type": "code",
   "execution_count": null,
   "metadata": {
    "collapsed": true
   },
   "outputs": [],
   "source": [
    "#more code"
   ]
  },
  {
   "cell_type": "code",
   "execution_count": null,
   "metadata": {
    "collapsed": true
   },
   "outputs": [],
   "source": [
    "#blahblahblah"
   ]
  },
  {
   "cell_type": "code",
   "execution_count": null,
   "metadata": {
    "collapsed": true
   },
   "outputs": [],
   "source": []
  },
  {
   "cell_type": "code",
   "execution_count": null,
   "metadata": {
    "collapsed": true
   },
   "outputs": [],
   "source": []
  },
  {
   "cell_type": "code",
   "execution_count": null,
   "metadata": {
    "collapsed": true
   },
   "outputs": [],
   "source": []
  },
  {
   "cell_type": "markdown",
   "metadata": {},
   "source": [
    "## Final Thoughts & Summary:"
   ]
  },
  {
   "cell_type": "code",
   "execution_count": null,
   "metadata": {
    "collapsed": true
   },
   "outputs": [],
   "source": []
  },
  {
   "cell_type": "code",
   "execution_count": null,
   "metadata": {
    "collapsed": true
   },
   "outputs": [],
   "source": []
  },
  {
   "cell_type": "code",
   "execution_count": null,
   "metadata": {
    "collapsed": true
   },
   "outputs": [],
   "source": [
    "\n"
   ]
  },
  {
   "cell_type": "code",
   "execution_count": null,
   "metadata": {
    "collapsed": true
   },
   "outputs": [],
   "source": []
  }
 ],
 "metadata": {
  "anaconda-cloud": {},
  "kernelspec": {
   "display_name": "Python 3",
   "language": "python",
   "name": "python3"
  },
  "language_info": {
   "codemirror_mode": {
    "name": "ipython",
    "version": 3
   },
   "file_extension": ".py",
   "mimetype": "text/x-python",
   "name": "python",
   "nbconvert_exporter": "python",
   "pygments_lexer": "ipython3",
   "version": "3.7.4"
  }
 },
 "nbformat": 4,
 "nbformat_minor": 1
}
