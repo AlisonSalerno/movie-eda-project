{
 "cells": [
  {
   "cell_type": "code",
   "execution_count": 1,
   "metadata": {
    "collapsed": true
   },
   "outputs": [],
   "source": [
    "#import packages needed\n",
    "\n",
    "import pandas as pd\n",
    "import matplotlib.pyplot as plt\n",
    "from matplotlib import style\n",
    "style.use('fivethirtyeight')\n",
    "import numpy as np\n",
    "import json\n",
    "import requests\n",
    "from bs4 import BeautifulSoup\n",
    "from re import sub\n",
    "from decimal import Decimal\n",
    "%matplotlib inline"
   ]
  },
  {
   "cell_type": "markdown",
   "metadata": {},
   "source": [
    "## Box Office Mojo\n",
    "\n",
    "Marvel Movies URL: https://www.boxofficemojo.com/brand/bn3732077058/?ref_=bo_bns_table_1"
   ]
  },
  {
   "cell_type": "code",
   "execution_count": 3,
   "metadata": {
    "collapsed": true
   },
   "outputs": [],
   "source": [
    "marvel_url = 'https://www.boxofficemojo.com/brand/bn3732077058/?ref_=bo_bns_table_1'"
   ]
  },
  {
   "cell_type": "code",
   "execution_count": 22,
   "metadata": {
    "collapsed": true
   },
   "outputs": [],
   "source": [
    "#BeautifulSouping the url's for Marvel movies from Movie Mojo\n",
    "\n",
    "def soupitupMarvel(url, genre_string):\n",
    "    page = requests.get(url)\n",
    "    soup = BeautifulSoup(page.content, 'html.parser')\n",
    "    \n",
    "    titles = soup.find_all('td', class_='a-text-left mojo-field-type-release mojo-cell-wide')\n",
    "    lifetime_gross = soup.find_all('td', class_='a-text-right mojo-field-type-money mojo-sort-column mojo-estimatable')\n",
    "    date_release = soup.find_all('td', class_='a-text-left mojo-field-type-date a-nowrap')\n",
    "    \n",
    "    Genre_List =[]\n",
    "    cur=0\n",
    "    while cur < len(titles):\n",
    "        Genre_Dict = {}\n",
    "        \n",
    "        Genre_Dict['Date_Released'] = date_release[cur].get_text()\n",
    "        Genre_Dict['Lifetime_Gross'] = lifetime_gross[cur].get_text()\n",
    "        Genre_Dict['Title'] = titles[cur].get_text()\n",
    "        \n",
    "        Genre_List.append(Genre_Dict)\n",
    "        cur+=1\n",
    "    \n",
    "    genre = pd.DataFrame(Genre_List)\n",
    "    genre['Subgenre'] = genre_string\n",
    "    return genre"
   ]
  },
  {
   "cell_type": "code",
   "execution_count": 24,
   "metadata": {
    "collapsed": false
   },
   "outputs": [],
   "source": [
    "marvel_df = soupitupMarvel(marvel_url, 'Marvel')"
   ]
  },
  {
   "cell_type": "code",
   "execution_count": 31,
   "metadata": {
    "collapsed": false
   },
   "outputs": [],
   "source": [
    "#Converting the Lifetime_Gross column into type decimal and then convert it again to int\n",
    "\n",
    "marvel_df['Lifetime_Gross'] = marvel_df['Lifetime_Gross'].apply(lambda x: Decimal(sub(r'[^\\d.]', '', x)))\n",
    "marvel_df['Lifetime_Gross'] = marvel_df['Lifetime_Gross'].apply(lambda x: int(x))"
   ]
  },
  {
   "cell_type": "code",
   "execution_count": 37,
   "metadata": {
    "collapsed": false
   },
   "outputs": [
    {
     "name": "stdout",
     "output_type": "stream",
     "text": [
      "Meadian: $ 210 M\n",
      "Mean: $ 237 M\n"
     ]
    }
   ],
   "source": [
    "print('Meadian: $',round(marvel_df['Lifetime_Gross'].median()/1000000), 'M')\n",
    "print('Mean: $',round(marvel_df['Lifetime_Gross'].mean()/1000000), 'M')"
   ]
  },
  {
   "cell_type": "code",
   "execution_count": 25,
   "metadata": {
    "collapsed": true
   },
   "outputs": [],
   "source": [
    "marvel_df.to_csv('marveldf.csv')"
   ]
  },
  {
   "cell_type": "code",
   "execution_count": 19,
   "metadata": {
    "collapsed": false
   },
   "outputs": [],
   "source": [
    "#correlation analysis: do people watch marvel movies because they're marvel or because they're in the supernatural genre? "
   ]
  },
  {
   "cell_type": "code",
   "execution_count": null,
   "metadata": {
    "collapsed": true
   },
   "outputs": [],
   "source": []
  }
 ],
 "metadata": {
  "kernelspec": {
   "display_name": "Python [Root]",
   "language": "python",
   "name": "Python [Root]"
  },
  "language_info": {
   "codemirror_mode": {
    "name": "ipython",
    "version": 3
   },
   "file_extension": ".py",
   "mimetype": "text/x-python",
   "name": "python",
   "nbconvert_exporter": "python",
   "pygments_lexer": "ipython3",
   "version": "3.5.1"
  }
 },
 "nbformat": 4,
 "nbformat_minor": 0
}
