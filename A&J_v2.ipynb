{
 "cells": [
  {
   "cell_type": "code",
   "execution_count": 1,
   "metadata": {
    "collapsed": true
   },
   "outputs": [],
   "source": [
    "import pandas as pd\n",
    "import matplotlib.pyplot as plt\n",
    "from matplotlib import style\n",
    "style.use('fivethirtyeight')\n",
    "import numpy as np\n",
    "import json\n",
    "import requests\n",
    "from bs4 import BeautifulSoup\n",
    "from re import sub\n",
    "from decimal import Decimal\n",
    "%matplotlib inline"
   ]
  },
  {
   "cell_type": "code",
   "execution_count": 3,
   "metadata": {
    "collapsed": true
   },
   "outputs": [],
   "source": [
    "df1=pd.read_csv('mdbv2.csv',index_col=0)"
   ]
  },
  {
   "cell_type": "code",
   "execution_count": 4,
   "metadata": {
    "collapsed": true
   },
   "outputs": [],
   "source": [
    "df2=pd.read_csv('movie_subgenres.csv',index_col=0)"
   ]
  },
  {
   "cell_type": "code",
   "execution_count": 10,
   "metadata": {
    "collapsed": true
   },
   "outputs": [],
   "source": [
    "df1.reset_index(inplace=True)"
   ]
  },
  {
   "cell_type": "code",
   "execution_count": 6,
   "metadata": {
    "collapsed": false
   },
   "outputs": [
    {
     "data": {
      "text/html": [
       "<div>\n",
       "<style scoped>\n",
       "    .dataframe tbody tr th:only-of-type {\n",
       "        vertical-align: middle;\n",
       "    }\n",
       "\n",
       "    .dataframe tbody tr th {\n",
       "        vertical-align: top;\n",
       "    }\n",
       "\n",
       "    .dataframe thead th {\n",
       "        text-align: right;\n",
       "    }\n",
       "</style>\n",
       "<table border=\"1\" class=\"dataframe\">\n",
       "  <thead>\n",
       "    <tr style=\"text-align: right;\">\n",
       "      <th></th>\n",
       "      <th>Date_Released</th>\n",
       "      <th>Lifetime_Gross</th>\n",
       "      <th>Title</th>\n",
       "      <th>Subgenre</th>\n",
       "    </tr>\n",
       "  </thead>\n",
       "  <tbody>\n",
       "    <tr>\n",
       "      <td>0</td>\n",
       "      <td>Dec 18, 2009</td>\n",
       "      <td>749766139</td>\n",
       "      <td>Avatar</td>\n",
       "      <td>Affliction</td>\n",
       "    </tr>\n",
       "    <tr>\n",
       "      <td>1</td>\n",
       "      <td>Aug 3, 2007</td>\n",
       "      <td>227471070</td>\n",
       "      <td>The Bourne Ultimatum</td>\n",
       "      <td>Affliction</td>\n",
       "    </tr>\n",
       "    <tr>\n",
       "      <td>2</td>\n",
       "      <td>Jul 23, 2004</td>\n",
       "      <td>176241941</td>\n",
       "      <td>The Bourne Supremacy</td>\n",
       "      <td>Affliction</td>\n",
       "    </tr>\n",
       "    <tr>\n",
       "      <td>3</td>\n",
       "      <td>Feb 10, 2012</td>\n",
       "      <td>125014030</td>\n",
       "      <td>The Vow</td>\n",
       "      <td>Affliction</td>\n",
       "    </tr>\n",
       "    <tr>\n",
       "      <td>4</td>\n",
       "      <td>Jun 14, 2002</td>\n",
       "      <td>121661683</td>\n",
       "      <td>The Bourne Identity</td>\n",
       "      <td>Affliction</td>\n",
       "    </tr>\n",
       "  </tbody>\n",
       "</table>\n",
       "</div>"
      ],
      "text/plain": [
       "  Date_Released  Lifetime_Gross                 Title    Subgenre\n",
       "0  Dec 18, 2009       749766139                Avatar  Affliction\n",
       "1   Aug 3, 2007       227471070  The Bourne Ultimatum  Affliction\n",
       "2  Jul 23, 2004       176241941  The Bourne Supremacy  Affliction\n",
       "3  Feb 10, 2012       125014030               The Vow  Affliction\n",
       "4  Jun 14, 2002       121661683   The Bourne Identity  Affliction"
      ]
     },
     "execution_count": 6,
     "metadata": {},
     "output_type": "execute_result"
    }
   ],
   "source": [
    "df2.head()"
   ]
  },
  {
   "cell_type": "code",
   "execution_count": 11,
   "metadata": {
    "collapsed": false
   },
   "outputs": [
    {
     "data": {
      "text/html": [
       "<div>\n",
       "<style scoped>\n",
       "    .dataframe tbody tr th:only-of-type {\n",
       "        vertical-align: middle;\n",
       "    }\n",
       "\n",
       "    .dataframe tbody tr th {\n",
       "        vertical-align: top;\n",
       "    }\n",
       "\n",
       "    .dataframe thead th {\n",
       "        text-align: right;\n",
       "    }\n",
       "</style>\n",
       "<table border=\"1\" class=\"dataframe\">\n",
       "  <thead>\n",
       "    <tr style=\"text-align: right;\">\n",
       "      <th></th>\n",
       "      <th>title</th>\n",
       "      <th>popularity</th>\n",
       "      <th>vote_count</th>\n",
       "      <th>mdb_id</th>\n",
       "      <th>vote_average</th>\n",
       "      <th>release_date</th>\n",
       "      <th>genre</th>\n",
       "    </tr>\n",
       "  </thead>\n",
       "  <tbody>\n",
       "    <tr>\n",
       "      <td>0</td>\n",
       "      <td>Avengers: Endgame</td>\n",
       "      <td>58.985</td>\n",
       "      <td>12386</td>\n",
       "      <td>299534</td>\n",
       "      <td>8.3</td>\n",
       "      <td>2019-04-24</td>\n",
       "      <td>sci-fi</td>\n",
       "    </tr>\n",
       "    <tr>\n",
       "      <td>1</td>\n",
       "      <td>Avatar</td>\n",
       "      <td>60.213</td>\n",
       "      <td>20869</td>\n",
       "      <td>19995</td>\n",
       "      <td>7.4</td>\n",
       "      <td>2009-12-10</td>\n",
       "      <td>sci-fi</td>\n",
       "    </tr>\n",
       "    <tr>\n",
       "      <td>2</td>\n",
       "      <td>Star Wars: The Force Awakens</td>\n",
       "      <td>51.452</td>\n",
       "      <td>14128</td>\n",
       "      <td>140607</td>\n",
       "      <td>7.4</td>\n",
       "      <td>2015-12-15</td>\n",
       "      <td>sci-fi</td>\n",
       "    </tr>\n",
       "    <tr>\n",
       "      <td>3</td>\n",
       "      <td>Avengers: Infinity War</td>\n",
       "      <td>87.698</td>\n",
       "      <td>17541</td>\n",
       "      <td>299536</td>\n",
       "      <td>8.3</td>\n",
       "      <td>2018-04-25</td>\n",
       "      <td>sci-fi</td>\n",
       "    </tr>\n",
       "    <tr>\n",
       "      <td>4</td>\n",
       "      <td>Jurassic World</td>\n",
       "      <td>43.540</td>\n",
       "      <td>15327</td>\n",
       "      <td>135397</td>\n",
       "      <td>6.6</td>\n",
       "      <td>2015-06-06</td>\n",
       "      <td>sci-fi</td>\n",
       "    </tr>\n",
       "  </tbody>\n",
       "</table>\n",
       "</div>"
      ],
      "text/plain": [
       "                          title  popularity  vote_count  mdb_id  vote_average  \\\n",
       "0             Avengers: Endgame      58.985       12386  299534           8.3   \n",
       "1                        Avatar      60.213       20869   19995           7.4   \n",
       "2  Star Wars: The Force Awakens      51.452       14128  140607           7.4   \n",
       "3        Avengers: Infinity War      87.698       17541  299536           8.3   \n",
       "4                Jurassic World      43.540       15327  135397           6.6   \n",
       "\n",
       "  release_date   genre  \n",
       "0   2019-04-24  sci-fi  \n",
       "1   2009-12-10  sci-fi  \n",
       "2   2015-12-15  sci-fi  \n",
       "3   2018-04-25  sci-fi  \n",
       "4   2015-06-06  sci-fi  "
      ]
     },
     "execution_count": 11,
     "metadata": {},
     "output_type": "execute_result"
    }
   ],
   "source": [
    "df1.head()"
   ]
  },
  {
   "cell_type": "code",
   "execution_count": 12,
   "metadata": {
    "collapsed": true
   },
   "outputs": [],
   "source": [
    "df1.rename(columns={'title':'Title'},inplace=True)"
   ]
  },
  {
   "cell_type": "code",
   "execution_count": 13,
   "metadata": {
    "collapsed": false
   },
   "outputs": [
    {
     "data": {
      "text/html": [
       "<div>\n",
       "<style scoped>\n",
       "    .dataframe tbody tr th:only-of-type {\n",
       "        vertical-align: middle;\n",
       "    }\n",
       "\n",
       "    .dataframe tbody tr th {\n",
       "        vertical-align: top;\n",
       "    }\n",
       "\n",
       "    .dataframe thead th {\n",
       "        text-align: right;\n",
       "    }\n",
       "</style>\n",
       "<table border=\"1\" class=\"dataframe\">\n",
       "  <thead>\n",
       "    <tr style=\"text-align: right;\">\n",
       "      <th></th>\n",
       "      <th>Title</th>\n",
       "      <th>popularity</th>\n",
       "      <th>vote_count</th>\n",
       "      <th>mdb_id</th>\n",
       "      <th>vote_average</th>\n",
       "      <th>release_date</th>\n",
       "      <th>genre</th>\n",
       "    </tr>\n",
       "  </thead>\n",
       "  <tbody>\n",
       "    <tr>\n",
       "      <td>0</td>\n",
       "      <td>Avengers: Endgame</td>\n",
       "      <td>58.985</td>\n",
       "      <td>12386</td>\n",
       "      <td>299534</td>\n",
       "      <td>8.3</td>\n",
       "      <td>2019-04-24</td>\n",
       "      <td>sci-fi</td>\n",
       "    </tr>\n",
       "    <tr>\n",
       "      <td>1</td>\n",
       "      <td>Avatar</td>\n",
       "      <td>60.213</td>\n",
       "      <td>20869</td>\n",
       "      <td>19995</td>\n",
       "      <td>7.4</td>\n",
       "      <td>2009-12-10</td>\n",
       "      <td>sci-fi</td>\n",
       "    </tr>\n",
       "    <tr>\n",
       "      <td>2</td>\n",
       "      <td>Star Wars: The Force Awakens</td>\n",
       "      <td>51.452</td>\n",
       "      <td>14128</td>\n",
       "      <td>140607</td>\n",
       "      <td>7.4</td>\n",
       "      <td>2015-12-15</td>\n",
       "      <td>sci-fi</td>\n",
       "    </tr>\n",
       "    <tr>\n",
       "      <td>3</td>\n",
       "      <td>Avengers: Infinity War</td>\n",
       "      <td>87.698</td>\n",
       "      <td>17541</td>\n",
       "      <td>299536</td>\n",
       "      <td>8.3</td>\n",
       "      <td>2018-04-25</td>\n",
       "      <td>sci-fi</td>\n",
       "    </tr>\n",
       "    <tr>\n",
       "      <td>4</td>\n",
       "      <td>Jurassic World</td>\n",
       "      <td>43.540</td>\n",
       "      <td>15327</td>\n",
       "      <td>135397</td>\n",
       "      <td>6.6</td>\n",
       "      <td>2015-06-06</td>\n",
       "      <td>sci-fi</td>\n",
       "    </tr>\n",
       "  </tbody>\n",
       "</table>\n",
       "</div>"
      ],
      "text/plain": [
       "                          Title  popularity  vote_count  mdb_id  vote_average  \\\n",
       "0             Avengers: Endgame      58.985       12386  299534           8.3   \n",
       "1                        Avatar      60.213       20869   19995           7.4   \n",
       "2  Star Wars: The Force Awakens      51.452       14128  140607           7.4   \n",
       "3        Avengers: Infinity War      87.698       17541  299536           8.3   \n",
       "4                Jurassic World      43.540       15327  135397           6.6   \n",
       "\n",
       "  release_date   genre  \n",
       "0   2019-04-24  sci-fi  \n",
       "1   2009-12-10  sci-fi  \n",
       "2   2015-12-15  sci-fi  \n",
       "3   2018-04-25  sci-fi  \n",
       "4   2015-06-06  sci-fi  "
      ]
     },
     "execution_count": 13,
     "metadata": {},
     "output_type": "execute_result"
    }
   ],
   "source": [
    "df1.head()"
   ]
  },
  {
   "cell_type": "code",
   "execution_count": 14,
   "metadata": {
    "collapsed": true
   },
   "outputs": [],
   "source": [
    "sci_fi_df=pd.merge(df1,df2,on='Title')"
   ]
  },
  {
   "cell_type": "code",
   "execution_count": 15,
   "metadata": {
    "collapsed": false
   },
   "outputs": [
    {
     "data": {
      "text/plain": [
       "(288, 10)"
      ]
     },
     "execution_count": 15,
     "metadata": {},
     "output_type": "execute_result"
    }
   ],
   "source": [
    "sci_fi_df.shape"
   ]
  },
  {
   "cell_type": "code",
   "execution_count": 34,
   "metadata": {
    "collapsed": false
   },
   "outputs": [
    {
     "data": {
      "text/html": [
       "<div>\n",
       "<style scoped>\n",
       "    .dataframe tbody tr th:only-of-type {\n",
       "        vertical-align: middle;\n",
       "    }\n",
       "\n",
       "    .dataframe tbody tr th {\n",
       "        vertical-align: top;\n",
       "    }\n",
       "\n",
       "    .dataframe thead th {\n",
       "        text-align: right;\n",
       "    }\n",
       "</style>\n",
       "<table border=\"1\" class=\"dataframe\">\n",
       "  <thead>\n",
       "    <tr style=\"text-align: right;\">\n",
       "      <th></th>\n",
       "      <th>Title</th>\n",
       "      <th>popularity</th>\n",
       "      <th>vote_count</th>\n",
       "      <th>mdb_id</th>\n",
       "      <th>vote_average</th>\n",
       "      <th>release_date</th>\n",
       "      <th>genre</th>\n",
       "      <th>Date_Released</th>\n",
       "      <th>Lifetime_Gross</th>\n",
       "      <th>Subgenre</th>\n",
       "    </tr>\n",
       "  </thead>\n",
       "  <tbody>\n",
       "    <tr>\n",
       "      <td>0</td>\n",
       "      <td>Avengers: Endgame</td>\n",
       "      <td>58.985</td>\n",
       "      <td>12386</td>\n",
       "      <td>299534</td>\n",
       "      <td>8.3</td>\n",
       "      <td>2019-04-24</td>\n",
       "      <td>sci-fi</td>\n",
       "      <td>Apr 26, 2019</td>\n",
       "      <td>858373000</td>\n",
       "      <td>Supernatural</td>\n",
       "    </tr>\n",
       "    <tr>\n",
       "      <td>1</td>\n",
       "      <td>Avengers: Endgame</td>\n",
       "      <td>58.985</td>\n",
       "      <td>12386</td>\n",
       "      <td>299534</td>\n",
       "      <td>8.3</td>\n",
       "      <td>2019-04-24</td>\n",
       "      <td>sci-fi</td>\n",
       "      <td>Apr 26, 2019</td>\n",
       "      <td>858373000</td>\n",
       "      <td>Alien_Invasion</td>\n",
       "    </tr>\n",
       "    <tr>\n",
       "      <td>2</td>\n",
       "      <td>Avengers: Endgame</td>\n",
       "      <td>58.985</td>\n",
       "      <td>12386</td>\n",
       "      <td>299534</td>\n",
       "      <td>8.3</td>\n",
       "      <td>2019-04-24</td>\n",
       "      <td>sci-fi</td>\n",
       "      <td>Apr 26, 2019</td>\n",
       "      <td>858373000</td>\n",
       "      <td>Time_Travel</td>\n",
       "    </tr>\n",
       "    <tr>\n",
       "      <td>3</td>\n",
       "      <td>Avengers: Endgame</td>\n",
       "      <td>58.985</td>\n",
       "      <td>12386</td>\n",
       "      <td>299534</td>\n",
       "      <td>8.3</td>\n",
       "      <td>2019-04-24</td>\n",
       "      <td>sci-fi</td>\n",
       "      <td>Apr 26, 2019</td>\n",
       "      <td>858373000</td>\n",
       "      <td>Superhero</td>\n",
       "    </tr>\n",
       "    <tr>\n",
       "      <td>4</td>\n",
       "      <td>Avatar</td>\n",
       "      <td>60.213</td>\n",
       "      <td>20869</td>\n",
       "      <td>19995</td>\n",
       "      <td>7.4</td>\n",
       "      <td>2009-12-10</td>\n",
       "      <td>sci-fi</td>\n",
       "      <td>Dec 18, 2009</td>\n",
       "      <td>749766139</td>\n",
       "      <td>Affliction</td>\n",
       "    </tr>\n",
       "  </tbody>\n",
       "</table>\n",
       "</div>"
      ],
      "text/plain": [
       "               Title  popularity  vote_count  mdb_id  vote_average  \\\n",
       "0  Avengers: Endgame      58.985       12386  299534           8.3   \n",
       "1  Avengers: Endgame      58.985       12386  299534           8.3   \n",
       "2  Avengers: Endgame      58.985       12386  299534           8.3   \n",
       "3  Avengers: Endgame      58.985       12386  299534           8.3   \n",
       "4             Avatar      60.213       20869   19995           7.4   \n",
       "\n",
       "  release_date   genre Date_Released  Lifetime_Gross        Subgenre  \n",
       "0   2019-04-24  sci-fi  Apr 26, 2019       858373000    Supernatural  \n",
       "1   2019-04-24  sci-fi  Apr 26, 2019       858373000  Alien_Invasion  \n",
       "2   2019-04-24  sci-fi  Apr 26, 2019       858373000     Time_Travel  \n",
       "3   2019-04-24  sci-fi  Apr 26, 2019       858373000       Superhero  \n",
       "4   2009-12-10  sci-fi  Dec 18, 2009       749766139      Affliction  "
      ]
     },
     "execution_count": 34,
     "metadata": {},
     "output_type": "execute_result"
    }
   ],
   "source": [
    "sci_fi_df.head()"
   ]
  },
  {
   "cell_type": "code",
   "execution_count": 35,
   "metadata": {
    "collapsed": true
   },
   "outputs": [],
   "source": [
    "sci_fi_df.rename(columns={'Lifetime_Gross': 'Revenue'},inplace=True)"
   ]
  },
  {
   "cell_type": "code",
   "execution_count": 42,
   "metadata": {
    "collapsed": true
   },
   "outputs": [],
   "source": [
    "sci_fi_df.rename(columns={'popularity': 'Popularity','vote_count':'Vote_Count', 'vote_average': 'Vote_Average','release_date':'Release_Date'},inplace=True)"
   ]
  },
  {
   "cell_type": "code",
   "execution_count": 45,
   "metadata": {
    "collapsed": true
   },
   "outputs": [],
   "source": [
    "sci_fi_df.rename(columns={'genre':'Genre'},inplace=True)"
   ]
  },
  {
   "cell_type": "code",
   "execution_count": 51,
   "metadata": {
    "collapsed": true
   },
   "outputs": [],
   "source": [
    "sci_fi_df.drop(columns=['mdb_id','Date_Released'],inplace=True)"
   ]
  },
  {
   "cell_type": "code",
   "execution_count": 52,
   "metadata": {
    "collapsed": false
   },
   "outputs": [
    {
     "data": {
      "text/html": [
       "<div>\n",
       "<style scoped>\n",
       "    .dataframe tbody tr th:only-of-type {\n",
       "        vertical-align: middle;\n",
       "    }\n",
       "\n",
       "    .dataframe tbody tr th {\n",
       "        vertical-align: top;\n",
       "    }\n",
       "\n",
       "    .dataframe thead th {\n",
       "        text-align: right;\n",
       "    }\n",
       "</style>\n",
       "<table border=\"1\" class=\"dataframe\">\n",
       "  <thead>\n",
       "    <tr style=\"text-align: right;\">\n",
       "      <th></th>\n",
       "      <th>Title</th>\n",
       "      <th>Popularity</th>\n",
       "      <th>Vote_Count</th>\n",
       "      <th>Vote_Average</th>\n",
       "      <th>Release_Date</th>\n",
       "      <th>Genre</th>\n",
       "      <th>Revenue</th>\n",
       "      <th>Subgenre</th>\n",
       "    </tr>\n",
       "  </thead>\n",
       "  <tbody>\n",
       "    <tr>\n",
       "      <td>0</td>\n",
       "      <td>Avengers: Endgame</td>\n",
       "      <td>58.985</td>\n",
       "      <td>12386</td>\n",
       "      <td>8.3</td>\n",
       "      <td>2019-04-24</td>\n",
       "      <td>sci-fi</td>\n",
       "      <td>858373000</td>\n",
       "      <td>Supernatural</td>\n",
       "    </tr>\n",
       "    <tr>\n",
       "      <td>1</td>\n",
       "      <td>Avengers: Endgame</td>\n",
       "      <td>58.985</td>\n",
       "      <td>12386</td>\n",
       "      <td>8.3</td>\n",
       "      <td>2019-04-24</td>\n",
       "      <td>sci-fi</td>\n",
       "      <td>858373000</td>\n",
       "      <td>Alien_Invasion</td>\n",
       "    </tr>\n",
       "    <tr>\n",
       "      <td>2</td>\n",
       "      <td>Avengers: Endgame</td>\n",
       "      <td>58.985</td>\n",
       "      <td>12386</td>\n",
       "      <td>8.3</td>\n",
       "      <td>2019-04-24</td>\n",
       "      <td>sci-fi</td>\n",
       "      <td>858373000</td>\n",
       "      <td>Time_Travel</td>\n",
       "    </tr>\n",
       "    <tr>\n",
       "      <td>3</td>\n",
       "      <td>Avengers: Endgame</td>\n",
       "      <td>58.985</td>\n",
       "      <td>12386</td>\n",
       "      <td>8.3</td>\n",
       "      <td>2019-04-24</td>\n",
       "      <td>sci-fi</td>\n",
       "      <td>858373000</td>\n",
       "      <td>Superhero</td>\n",
       "    </tr>\n",
       "    <tr>\n",
       "      <td>4</td>\n",
       "      <td>Avatar</td>\n",
       "      <td>60.213</td>\n",
       "      <td>20869</td>\n",
       "      <td>7.4</td>\n",
       "      <td>2009-12-10</td>\n",
       "      <td>sci-fi</td>\n",
       "      <td>749766139</td>\n",
       "      <td>Affliction</td>\n",
       "    </tr>\n",
       "    <tr>\n",
       "      <td>...</td>\n",
       "      <td>...</td>\n",
       "      <td>...</td>\n",
       "      <td>...</td>\n",
       "      <td>...</td>\n",
       "      <td>...</td>\n",
       "      <td>...</td>\n",
       "      <td>...</td>\n",
       "      <td>...</td>\n",
       "    </tr>\n",
       "    <tr>\n",
       "      <td>283</td>\n",
       "      <td>Robot Stories</td>\n",
       "      <td>3.118</td>\n",
       "      <td>10</td>\n",
       "      <td>4.6</td>\n",
       "      <td>2003-01-01</td>\n",
       "      <td>sci-fi</td>\n",
       "      <td>131451</td>\n",
       "      <td>Robot</td>\n",
       "    </tr>\n",
       "    <tr>\n",
       "      <td>284</td>\n",
       "      <td>Alien Trespass</td>\n",
       "      <td>6.264</td>\n",
       "      <td>44</td>\n",
       "      <td>5.4</td>\n",
       "      <td>2009-04-03</td>\n",
       "      <td>sci-fi</td>\n",
       "      <td>104526</td>\n",
       "      <td>Alien_Invasion</td>\n",
       "    </tr>\n",
       "    <tr>\n",
       "      <td>285</td>\n",
       "      <td>Wonder Woman</td>\n",
       "      <td>11.495</td>\n",
       "      <td>296</td>\n",
       "      <td>7.3</td>\n",
       "      <td>2009-03-03</td>\n",
       "      <td>sci-fi</td>\n",
       "      <td>412563408</td>\n",
       "      <td>Supernatural</td>\n",
       "    </tr>\n",
       "    <tr>\n",
       "      <td>286</td>\n",
       "      <td>Wonder Woman</td>\n",
       "      <td>11.495</td>\n",
       "      <td>296</td>\n",
       "      <td>7.3</td>\n",
       "      <td>2009-03-03</td>\n",
       "      <td>sci-fi</td>\n",
       "      <td>412563408</td>\n",
       "      <td>Superhero</td>\n",
       "    </tr>\n",
       "    <tr>\n",
       "      <td>287</td>\n",
       "      <td>Impostor</td>\n",
       "      <td>10.091</td>\n",
       "      <td>221</td>\n",
       "      <td>6.1</td>\n",
       "      <td>2001-12-03</td>\n",
       "      <td>sci-fi</td>\n",
       "      <td>6285176</td>\n",
       "      <td>Alien_Invasion</td>\n",
       "    </tr>\n",
       "  </tbody>\n",
       "</table>\n",
       "<p>288 rows × 8 columns</p>\n",
       "</div>"
      ],
      "text/plain": [
       "                 Title  Popularity  Vote_Count  Vote_Average Release_Date  \\\n",
       "0    Avengers: Endgame      58.985       12386           8.3   2019-04-24   \n",
       "1    Avengers: Endgame      58.985       12386           8.3   2019-04-24   \n",
       "2    Avengers: Endgame      58.985       12386           8.3   2019-04-24   \n",
       "3    Avengers: Endgame      58.985       12386           8.3   2019-04-24   \n",
       "4               Avatar      60.213       20869           7.4   2009-12-10   \n",
       "..                 ...         ...         ...           ...          ...   \n",
       "283      Robot Stories       3.118          10           4.6   2003-01-01   \n",
       "284     Alien Trespass       6.264          44           5.4   2009-04-03   \n",
       "285       Wonder Woman      11.495         296           7.3   2009-03-03   \n",
       "286       Wonder Woman      11.495         296           7.3   2009-03-03   \n",
       "287           Impostor      10.091         221           6.1   2001-12-03   \n",
       "\n",
       "      Genre    Revenue        Subgenre  \n",
       "0    sci-fi  858373000    Supernatural  \n",
       "1    sci-fi  858373000  Alien_Invasion  \n",
       "2    sci-fi  858373000     Time_Travel  \n",
       "3    sci-fi  858373000       Superhero  \n",
       "4    sci-fi  749766139      Affliction  \n",
       "..      ...        ...             ...  \n",
       "283  sci-fi     131451           Robot  \n",
       "284  sci-fi     104526  Alien_Invasion  \n",
       "285  sci-fi  412563408    Supernatural  \n",
       "286  sci-fi  412563408       Superhero  \n",
       "287  sci-fi    6285176  Alien_Invasion  \n",
       "\n",
       "[288 rows x 8 columns]"
      ]
     },
     "execution_count": 52,
     "metadata": {},
     "output_type": "execute_result"
    }
   ],
   "source": [
    "sci_fi_df"
   ]
  },
  {
   "cell_type": "code",
   "execution_count": 61,
   "metadata": {
    "collapsed": false
   },
   "outputs": [
    {
     "data": {
      "text/plain": [
       "0    Avengers: Endgame\n",
       "Name: Title, dtype: object"
      ]
     },
     "execution_count": 61,
     "metadata": {},
     "output_type": "execute_result"
    }
   ],
   "source": [
    "#What scifi film has the highest generated revenue?\n",
    "#Avengers:Endgame\n",
    "\n",
    "sci_fi_df.sort_values(by='Revenue',ascending=False).head(1)['Title']"
   ]
  },
  {
   "cell_type": "code",
   "execution_count": 62,
   "metadata": {
    "collapsed": false
   },
   "outputs": [
    {
     "data": {
      "text/plain": [
       "278    Storage 24\n",
       "Name: Title, dtype: object"
      ]
     },
     "execution_count": 62,
     "metadata": {},
     "output_type": "execute_result"
    }
   ],
   "source": [
    "#What scifi film has the lowest generated revenue?\n",
    "sci_fi_df.sort_values(by='Revenue',ascending=True).head(1)['Title']"
   ]
  },
  {
   "cell_type": "code",
   "execution_count": 73,
   "metadata": {
    "collapsed": false
   },
   "outputs": [
    {
     "data": {
      "text/plain": [
       "<matplotlib.axes._subplots.AxesSubplot at 0x120fb7750>"
      ]
     },
     "execution_count": 73,
     "metadata": {},
     "output_type": "execute_result"
    },
    {
     "data": {
      "image/png": "[encoded data removed]",
      "text/plain": [
       "<Figure size 432x288 with 1 Axes>"
      ]
     },
     "metadata": {
      "needs_background": "light"
     },
     "output_type": "display_data"
    }
   ],
   "source": [
    "#Subgenre breakout of the top 10 most popular sci-fi films? (popularity determined by rating or by revenue generated\n",
    "\n",
    "sci_fi_df.groupby('Subgenre')['Vote_Average'].mean().plot(kind='barh')\n"
   ]
  },
  {
   "cell_type": "code",
   "execution_count": 74,
   "metadata": {
    "collapsed": false
   },
   "outputs": [
    {
     "data": {
      "text/plain": [
       "<matplotlib.axes._subplots.AxesSubplot at 0x120d9bf10>"
      ]
     },
     "execution_count": 74,
     "metadata": {},
     "output_type": "execute_result"
    },
    {
     "data": {
      "image/png": "[encoded data removed]",
      "text/plain": [
       "<Figure size 432x288 with 1 Axes>"
      ]
     },
     "metadata": {
      "needs_background": "light"
     },
     "output_type": "display_data"
    }
   ],
   "source": [
    "sci_fi_df.groupby('Subgenre')['Revenue'].mean().plot(kind='barh')"
   ]
  },
  {
   "cell_type": "code",
   "execution_count": 56,
   "metadata": {
    "collapsed": true
   },
   "outputs": [],
   "source": [
    "#What is the average total revenue of all the films? Grouped by subgenres? Grouped by decade?"
   ]
  },
  {
   "cell_type": "code",
   "execution_count": 79,
   "metadata": {
    "collapsed": false
   },
   "outputs": [
    {
     "data": {
      "text/plain": [
       "<matplotlib.axes._subplots.AxesSubplot at 0x121433e90>"
      ]
     },
     "execution_count": 79,
     "metadata": {},
     "output_type": "execute_result"
    },
    {
     "data": {
      "image/png": "[encoded data removed]",
      "text/plain": [
       "<Figure size 432x288 with 1 Axes>"
      ]
     },
     "metadata": {
      "needs_background": "light"
     },
     "output_type": "display_data"
    }
   ],
   "source": [
    "#What is the correlation of revenue and popularity?\n",
    "#Popularity has a higher correlation with revenue \n",
    "\n",
    "sci_fi_df.plot(kind='scatter',x='Revenue',y='Popularity')"
   ]
  },
  {
   "cell_type": "code",
   "execution_count": 80,
   "metadata": {
    "collapsed": false
   },
   "outputs": [
    {
     "data": {
      "text/plain": [
       "0.47456555419442137"
      ]
     },
     "execution_count": 80,
     "metadata": {},
     "output_type": "execute_result"
    }
   ],
   "source": [
    "sci_fi_df['Revenue'].corr(sci_fi_df['Vote_Average'])"
   ]
  },
  {
   "cell_type": "code",
   "execution_count": 81,
   "metadata": {
    "collapsed": false
   },
   "outputs": [
    {
     "data": {
      "text/plain": [
       "0.5884113320857994"
      ]
     },
     "execution_count": 81,
     "metadata": {},
     "output_type": "execute_result"
    }
   ],
   "source": [
    "sci_fi_df['Revenue'].corr(sci_fi_df['Popularity'])"
   ]
  },
  {
   "cell_type": "code",
   "execution_count": 123,
   "metadata": {
    "collapsed": false
   },
   "outputs": [
    {
     "data": {
      "text/plain": [
       "<BarContainer object of 10 artists>"
      ]
     },
     "execution_count": 123,
     "metadata": {},
     "output_type": "execute_result"
    },
    {
     "data": {
      "image/png": "[encoded data removed]",
      "text/plain": [
       "<Figure size 1440x720 with 1 Axes>"
      ]
     },
     "metadata": {
      "needs_background": "light"
     },
     "output_type": "display_data"
    }
   ],
   "source": [
    "#top 10 sci fi movies\n",
    "top_10=sci_fi_df.drop_duplicates(subset='Title',inplace=False).sort_values(by='Revenue',ascending=False)['Title'].head(10)\n",
    "\n",
    "top_10_revenue=sci_fi_df.drop_duplicates(subset='Title',inplace=False).sort_values(by='Revenue',ascending=False)['Revenue'].head(10)\n",
    "\n",
    "plt.rcParams.update({'font.size': 15})\n",
    "plt.figure(figsize=(20,10))\n",
    "\n",
    "plt.bar(top_10,top_10_revenue)\n",
    "\n"
   ]
  },
  {
   "cell_type": "code",
   "execution_count": 58,
   "metadata": {
    "collapsed": true
   },
   "outputs": [],
   "source": [
    "#Overall suggestion and final thoughts to Microsoft?\n",
    "\n"
   ]
  },
  {
   "cell_type": "code",
   "execution_count": 59,
   "metadata": {
    "collapsed": true
   },
   "outputs": [],
   "source": [
    "#What is the distribution like?"
   ]
  },
  {
   "cell_type": "code",
   "execution_count": 60,
   "metadata": {
    "collapsed": true
   },
   "outputs": [],
   "source": [
    "#Are there any outliers?\n"
   ]
  },
  {
   "cell_type": "code",
   "execution_count": null,
   "metadata": {
    "collapsed": true
   },
   "outputs": [],
   "source": [
    "#How do the different sub genre differ from one another in terms of success? Is there a correlation between them?"
   ]
  }
 ],
 "metadata": {
  "anaconda-cloud": {},
  "kernelspec": {
   "display_name": "Python [Root]",
   "language": "python",
   "name": "Python [Root]"
  },
  "language_info": {
   "codemirror_mode": {
    "name": "ipython",
    "version": 3
   },
   "file_extension": ".py",
   "mimetype": "text/x-python",
   "name": "python",
   "nbconvert_exporter": "python",
   "pygments_lexer": "ipython3",
   "version": "3.5.1"
  }
 },
 "nbformat": 4,
 "nbformat_minor": 2
}
